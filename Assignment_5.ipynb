{
  "nbformat": 4,
  "nbformat_minor": 0,
  "metadata": {
    "colab": {
      "name": "Assignment 5.ipynb",
      "provenance": [],
      "authorship_tag": "ABX9TyOpbiYTKBAP3vMJotCmnJiN",
      "include_colab_link": true
    },
    "kernelspec": {
      "name": "python3",
      "display_name": "Python 3"
    },
    "language_info": {
      "name": "python"
    }
  },
  "cells": [
    {
      "cell_type": "markdown",
      "metadata": {
        "id": "view-in-github",
        "colab_type": "text"
      },
      "source": [
        "<a href=\"https://colab.research.google.com/github/kunal24bit/Python-Assignments/blob/main/Assignment_5.ipynb\" target=\"_parent\"><img src=\"https://colab.research.google.com/assets/colab-badge.svg\" alt=\"Open In Colab\"/></a>"
      ]
    },
    {
      "cell_type": "markdown",
      "metadata": {
        "id": "BWy7FGOJX5wx"
      },
      "source": [
        "**1. Write a Python Program to Find LCM?**"
      ]
    },
    {
      "cell_type": "code",
      "metadata": {
        "id": "LyIwm-vUYAkZ"
      },
      "source": [
        "def max(a,b):\n",
        "  if a>b:\n",
        "    return a\n",
        "  else:\n",
        "    return b\n"
      ],
      "execution_count": 8,
      "outputs": []
    },
    {
      "cell_type": "code",
      "metadata": {
        "id": "Et6eU9DNYZ5Z"
      },
      "source": [
        "def min(a,b):\n",
        "  if a<b:\n",
        "    return a\n",
        "  else:\n",
        "    return b"
      ],
      "execution_count": 9,
      "outputs": []
    },
    {
      "cell_type": "code",
      "metadata": {
        "colab": {
          "base_uri": "https://localhost:8080/"
        },
        "id": "aATP8v7O9bcJ",
        "outputId": "d9367074-082b-4ea2-d822-74242addd894"
      },
      "source": [
        "a = int(input(\"Enter the first number: \"))\n",
        "b = int(input(\"Enter the second number: \"))\n",
        "y = max(a,b)\n",
        "z = min(a,b)\n",
        "lcm = 0\n",
        "while y%z!= 0:\n",
        "  y = y + max(a,b)\n",
        "print(\"LCM of {} and {} is {}\".format(a,b,y))\n",
        "\n"
      ],
      "execution_count": 28,
      "outputs": [
        {
          "output_type": "stream",
          "text": [
            "Enter the first number: 18\n",
            "Enter the second number: 12\n",
            "LCM of 18 and 12 is 36\n"
          ],
          "name": "stdout"
        }
      ]
    },
    {
      "cell_type": "markdown",
      "metadata": {
        "id": "1bKkzXFrCYP1"
      },
      "source": [
        "**Write a Python Program to Find HCF?**"
      ]
    },
    {
      "cell_type": "code",
      "metadata": {
        "id": "-oI4R0f6-PmT"
      },
      "source": [
        "def HCF(a,b):\n",
        "  if a == 0:\n",
        "    return b\n",
        "  else:\n",
        "    return HCF(b%a, a)"
      ],
      "execution_count": 46,
      "outputs": []
    },
    {
      "cell_type": "code",
      "metadata": {
        "colab": {
          "base_uri": "https://localhost:8080/"
        },
        "id": "WaSaCqyIAv4a",
        "outputId": "e86c5a16-36b9-4548-ac59-ed6e01319c43"
      },
      "source": [
        "HCF(18, 12)"
      ],
      "execution_count": 48,
      "outputs": [
        {
          "output_type": "execute_result",
          "data": {
            "text/plain": [
              "6"
            ]
          },
          "metadata": {
            "tags": []
          },
          "execution_count": 48
        }
      ]
    },
    {
      "cell_type": "code",
      "metadata": {
        "id": "yPKUnbXoC1ct"
      },
      "source": [
        ""
      ],
      "execution_count": 49,
      "outputs": []
    },
    {
      "cell_type": "markdown",
      "metadata": {
        "id": "Pkn8Ht4wLDbj"
      },
      "source": [
        "**Write a Python Program to Convert Decimal to Binary, Octal and Hexadecimal?**"
      ]
    },
    {
      "cell_type": "code",
      "metadata": {
        "id": "cExlfG3HD0UK"
      },
      "source": [
        "def dec_to_bin(a):\n",
        "  if a>=1:\n",
        "    dec_to_bin(a//2)\n",
        "  print(a%2, end = \"\")\n",
        "\n",
        "def dec_to_oct(a):\n",
        "  if a>=8:\n",
        "    dec_to_oct(a//8)\n",
        "  print(a%8, end = \"\")\n",
        "\n",
        "def dec_to_hex(a):\n",
        "  if a>=16:\n",
        "    dec_to_hex(a//16)\n",
        "  print(a%16, end=\"\")\n",
        "  \n",
        "  # while a!= 0:\n",
        "  #  z = a%2\n",
        "  #  a = a//2\n",
        "  #  print(z,end=\"\")\n",
        "  #  lst.append(z)\n",
        "  #return lst[::-1]"
      ],
      "execution_count": 22,
      "outputs": []
    },
    {
      "cell_type": "code",
      "metadata": {
        "colab": {
          "base_uri": "https://localhost:8080/"
        },
        "id": "QYDsHA51D3nO",
        "outputId": "98b3eb6a-115d-4e2e-fe5d-51ae838467ec"
      },
      "source": [
        "dec_to_bin(24)\n",
        "print(\"\\n\")\n",
        "dec_to_oct(8)\n",
        "print(\"\\n\")\n",
        "dec_to_hex(256)"
      ],
      "execution_count": 24,
      "outputs": [
        {
          "output_type": "stream",
          "text": [
            "011000\n",
            "\n",
            "10\n",
            "\n",
            "100"
          ],
          "name": "stdout"
        }
      ]
    },
    {
      "cell_type": "markdown",
      "metadata": {
        "id": "KiFVPYjmCFPA"
      },
      "source": [
        "**Write a Python Program To Find ASCII value of a character?**"
      ]
    },
    {
      "cell_type": "code",
      "metadata": {
        "id": "RtqXGTpCMPTf"
      },
      "source": [
        "#ASCII stands for the \"American Standard Code for Information Interchange\".\n",
        "def ASCI(a):\n",
        "  return ord(a)"
      ],
      "execution_count": 30,
      "outputs": []
    },
    {
      "cell_type": "code",
      "metadata": {
        "colab": {
          "base_uri": "https://localhost:8080/"
        },
        "id": "9Uw43vcBMiQo",
        "outputId": "f36460ef-ac78-4639-98f6-cb1176be15f6"
      },
      "source": [
        "ASCI('@')"
      ],
      "execution_count": 38,
      "outputs": [
        {
          "output_type": "execute_result",
          "data": {
            "text/plain": [
              "64"
            ]
          },
          "metadata": {
            "tags": []
          },
          "execution_count": 38
        }
      ]
    },
    {
      "cell_type": "markdown",
      "metadata": {
        "id": "LBJl2aaFCMK3"
      },
      "source": [
        "**Write a Python Program to Make a Simple Calculator with 4 basic mathematical operations?**"
      ]
    },
    {
      "cell_type": "code",
      "metadata": {
        "colab": {
          "base_uri": "https://localhost:8080/"
        },
        "id": "rVAXoDic154B",
        "outputId": "15f324d7-5cf5-4e3a-94d1-841425f7a67f"
      },
      "source": [
        "def add(a,b):\n",
        "  return a+b\n",
        "\n",
        "def subtract(a, b):\n",
        "  return a-b\n",
        "\n",
        "def mul(a, b):\n",
        "  return a*b\n",
        "\n",
        "def div(a, b):\n",
        "  return a/b\n",
        "\n",
        "print(\"Select Operation\")\n",
        "print(\"Press 1 to add\")\n",
        "print(\"Press 2 to subtract\")\n",
        "print(\"Press 3 to mulitply\")\n",
        "print(\"Press 4 to divide\")\n",
        "\n",
        "while True:\n",
        "  choice = int(input(\"Enter the number to select operation:\"))\n",
        "  if choice in (1,2,3,4):\n",
        "    num1 = float(input(\"Enter the first number: \"))\n",
        "    num2 = float(input(\"Enter the second number: \"))\n",
        "    if choice == 1:\n",
        "      print(add(num1, num2))\n",
        "    elif choice==2:\n",
        "      print(subtract(num1, num2))\n",
        "    elif choice == 3:\n",
        "      print(mul(num1, num2))\n",
        "    elif choice == 4:\n",
        "      print(div(num1, num2))\n",
        "    break\n",
        "  else:\n",
        "    print(\"Invalid Input\")\n"
      ],
      "execution_count": 40,
      "outputs": [
        {
          "output_type": "stream",
          "text": [
            "Select Operation\n",
            "Press 1 to add\n",
            "Press 2 to subtract\n",
            "Press 3 to mulitply\n",
            "Press 4 to divide\n",
            "Enter the number to select operation:1\n",
            "Enter the first number: 23\n",
            "Enter the second number: 23\n",
            "46.0\n"
          ],
          "name": "stdout"
        }
      ]
    },
    {
      "cell_type": "code",
      "metadata": {
        "id": "2j30QZH4-f2I"
      },
      "source": [
        "2"
      ],
      "execution_count": null,
      "outputs": []
    }
  ]
}