{
  "nbformat": 4,
  "nbformat_minor": 0,
  "metadata": {
    "colab": {
      "name": "Assignment_3.ipynb",
      "provenance": [],
      "collapsed_sections": [],
      "authorship_tag": "ABX9TyMbA4HRA4lSMuh+9ZgHqZuQ",
      "include_colab_link": true
    },
    "kernelspec": {
      "name": "python3",
      "display_name": "Python 3"
    },
    "language_info": {
      "name": "python"
    }
  },
  "cells": [
    {
      "cell_type": "markdown",
      "metadata": {
        "id": "view-in-github",
        "colab_type": "text"
      },
      "source": [
        "<a href=\"https://colab.research.google.com/github/kunal24bit/Python-Assignments/blob/main/Assignment_3.ipynb\" target=\"_parent\"><img src=\"https://colab.research.google.com/assets/colab-badge.svg\" alt=\"Open In Colab\"/></a>"
      ]
    },
    {
      "cell_type": "markdown",
      "metadata": {
        "id": "doZ7ePJby7mo"
      },
      "source": [
        "Write a Python Program to Check if a Number is Positive, Negative or Zero?"
      ]
    },
    {
      "cell_type": "code",
      "metadata": {
        "id": "ZMSiv169y-3U"
      },
      "source": [
        "def pnz(a):\n",
        "  if a>0:\n",
        "    print(\"The given number is positive\")\n",
        "  if a<0:\n",
        "    print(\"The given nuber is negative\")\n",
        "  if a==0:\n",
        "    print(\"The given number is zero\")"
      ],
      "execution_count": 3,
      "outputs": []
    },
    {
      "cell_type": "code",
      "metadata": {
        "colab": {
          "base_uri": "https://localhost:8080/"
        },
        "id": "qGJLNqzXzgEC",
        "outputId": "e04f367d-dbc1-41f1-9ae6-20caca09dde8"
      },
      "source": [
        "pnz(3)"
      ],
      "execution_count": 4,
      "outputs": [
        {
          "output_type": "stream",
          "text": [
            "The given number is positive\n"
          ],
          "name": "stdout"
        }
      ]
    },
    {
      "cell_type": "code",
      "metadata": {
        "id": "ADGzG0ONAalg"
      },
      "source": [
        ""
      ],
      "execution_count": null,
      "outputs": []
    },
    {
      "cell_type": "markdown",
      "metadata": {
        "id": "SYH7ZTVCAdmY"
      },
      "source": [
        "Write a Python Program to Check if a Number is Odd or Even?"
      ]
    },
    {
      "cell_type": "code",
      "metadata": {
        "id": "R229Z2tuAfLF"
      },
      "source": [
        "def odd_even(a):\n",
        "  if a%2==0:\n",
        "    print(\"The given number is even\")\n",
        "  else:\n",
        "    print(\"The given number is odd\")"
      ],
      "execution_count": 5,
      "outputs": []
    },
    {
      "cell_type": "code",
      "metadata": {
        "colab": {
          "base_uri": "https://localhost:8080/"
        },
        "id": "TnxA5ZvYA7AJ",
        "outputId": "d949800b-adf9-42d7-9b1f-45ba7c5b7bfb"
      },
      "source": [
        "odd_even(15)\n"
      ],
      "execution_count": 9,
      "outputs": [
        {
          "output_type": "stream",
          "text": [
            "The given number is odd\n"
          ],
          "name": "stdout"
        }
      ]
    },
    {
      "cell_type": "markdown",
      "metadata": {
        "id": "Q3XnZ3lSBHm1"
      },
      "source": [
        "Write a Python Program to Check Leap Year?"
      ]
    },
    {
      "cell_type": "code",
      "metadata": {
        "id": "H4MSsysaA_ey"
      },
      "source": [
        "#A leap year is exactly divisible by 4 except for century years (years ending with 00).\n",
        "#The century year is a leap year only if it is perfectly divisible by 400.\n",
        "def leap(year):\n",
        "  if year%400==0:\n",
        "    print(\"The {} year is a leap year\".format(year))\n",
        "  elif year%100==0:\n",
        "    print(\"The {} year is not a leap year\".format(year))\n",
        "  elif year%4 == 0:\n",
        "    print(\"The {} year is a leap year\".format(year))\n",
        "  else:\n",
        "    print(\"The {} year is not a leap year\".format(year))"
      ],
      "execution_count": 27,
      "outputs": []
    },
    {
      "cell_type": "code",
      "metadata": {
        "colab": {
          "base_uri": "https://localhost:8080/"
        },
        "id": "loLc7ckmCxZ3",
        "outputId": "3fa07426-5a6f-4f1c-e8d8-01c61ab7418c"
      },
      "source": [
        "leap(2012)\n",
        "leap(2002)\n",
        "leap(2005)\n",
        "leap(2006)\n",
        "leap(2008)\n",
        "leap(2000)\n",
        "leap(1000) #As the century year is leap year if it is perfectly divisible by 400."
      ],
      "execution_count": 29,
      "outputs": [
        {
          "output_type": "stream",
          "text": [
            "The 2012 year is a leap year\n",
            "The 2002 year is not a leap year\n",
            "The 2005 year is not a leap year\n",
            "The 2006 year is not a leap year\n",
            "The 2008 year is a leap year\n",
            "The 2000 year is a leap year\n",
            "The 1000 year is not a leap year\n"
          ],
          "name": "stdout"
        }
      ]
    },
    {
      "cell_type": "markdown",
      "metadata": {
        "id": "xtbkk9CXGQeU"
      },
      "source": [
        "Write a Python Program to Check Prime Number?"
      ]
    },
    {
      "cell_type": "code",
      "metadata": {
        "id": "4v-0w0qfGSNa"
      },
      "source": [
        "def prime(a):\n",
        "  flag = False\n",
        "  if a>1:\n",
        "    for i in range(2,a):\n",
        "      if a%i==0:\n",
        "        flag = True #represent found the factor\n",
        "        break #break out of loop\n",
        "  if flag:\n",
        "    print(\"{} is not a prime number\".format(a))\n",
        "  else:\n",
        "    print(\"{} is a prime number\".format(a))\n",
        "    "
      ],
      "execution_count": 99,
      "outputs": []
    },
    {
      "cell_type": "code",
      "metadata": {
        "colab": {
          "base_uri": "https://localhost:8080/"
        },
        "id": "BFhFNOQdGvY3",
        "outputId": "e0e964b9-7d48-487f-d8ff-6235f6675814"
      },
      "source": [
        "prime(24)"
      ],
      "execution_count": 98,
      "outputs": [
        {
          "output_type": "stream",
          "text": [
            "24 is not a prime number\n"
          ],
          "name": "stdout"
        }
      ]
    },
    {
      "cell_type": "markdown",
      "metadata": {
        "id": "VCNCZQu_VqwO"
      },
      "source": [
        "Write a Python Program to Print all Prime Numbers in an Interval of 1-10000?"
      ]
    },
    {
      "cell_type": "code",
      "metadata": {
        "colab": {
          "base_uri": "https://localhost:8080/"
        },
        "id": "QZMTMmf8Gvdy",
        "outputId": "0202caaa-e4a7-4f09-9639-4eeed61b7184"
      },
      "source": [
        "lst = []\n",
        "for i in range(1, 10+1):\n",
        "  if i>1:\n",
        "    for j in range(2, i):\n",
        "      if i%j==0:\n",
        "        break\n",
        "    else:\n",
        "      lst.append(i)\n",
        "\n",
        "print(lst)\n",
        " \n",
        "      \n",
        " \n",
        "  \n",
        "\n",
        "\n",
        "\n"
      ],
      "execution_count": 133,
      "outputs": [
        {
          "output_type": "stream",
          "text": [
            "[2, 3, 5, 7]\n"
          ],
          "name": "stdout"
        }
      ]
    },
    {
      "cell_type": "code",
      "metadata": {
        "id": "Ftc2B3uOj_Kl"
      },
      "source": [
        ""
      ],
      "execution_count": null,
      "outputs": []
    }
  ]
}