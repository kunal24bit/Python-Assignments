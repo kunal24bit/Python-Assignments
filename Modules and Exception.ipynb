{
 "cells": [
  {
   "cell_type": "code",
   "execution_count": 6,
   "id": "65a0e0de",
   "metadata": {},
   "outputs": [],
   "source": [
    "import math"
   ]
  },
  {
   "cell_type": "code",
   "execution_count": 7,
   "id": "56a205b0",
   "metadata": {},
   "outputs": [
    {
     "data": {
      "text/plain": [
       "2.0"
      ]
     },
     "execution_count": 7,
     "metadata": {},
     "output_type": "execute_result"
    }
   ],
   "source": [
    "math.sqrt(4)"
   ]
  },
  {
   "cell_type": "code",
   "execution_count": 8,
   "id": "4aac11b9",
   "metadata": {},
   "outputs": [
    {
     "data": {
      "text/plain": [
       "2.23606797749979"
      ]
     },
     "execution_count": 8,
     "metadata": {},
     "output_type": "execute_result"
    }
   ],
   "source": [
    "from math import sqrt\n",
    "sqrt(5)"
   ]
  },
  {
   "cell_type": "code",
   "execution_count": 9,
   "id": "6d3a260d",
   "metadata": {},
   "outputs": [
    {
     "data": {
      "text/plain": [
       "6.283185307179586"
      ]
     },
     "execution_count": 9,
     "metadata": {},
     "output_type": "execute_result"
    }
   ],
   "source": [
    "from math import pi\n",
    "\n",
    "pi*2"
   ]
  },
  {
   "cell_type": "code",
   "execution_count": 10,
   "id": "72d66c6f",
   "metadata": {},
   "outputs": [],
   "source": [
    "from math import *"
   ]
  },
  {
   "cell_type": "code",
   "execution_count": 11,
   "id": "a492cc9f",
   "metadata": {},
   "outputs": [
    {
     "data": {
      "text/plain": [
       "1.6197751905438615"
      ]
     },
     "execution_count": 11,
     "metadata": {},
     "output_type": "execute_result"
    }
   ],
   "source": [
    "tan(45)"
   ]
  },
  {
   "cell_type": "code",
   "execution_count": 12,
   "id": "0847f2e4",
   "metadata": {},
   "outputs": [
    {
     "data": {
      "text/plain": [
       "-0.9880316240928618"
      ]
     },
     "execution_count": 12,
     "metadata": {},
     "output_type": "execute_result"
    }
   ],
   "source": [
    "sin(30)"
   ]
  },
  {
   "cell_type": "code",
   "execution_count": 13,
   "id": "0ae4238d",
   "metadata": {},
   "outputs": [
    {
     "data": {
      "text/plain": [
       "'C:\\\\Users\\\\Hp\\\\Desktop\\\\Untitled Folder 1'"
      ]
     },
     "execution_count": 13,
     "metadata": {},
     "output_type": "execute_result"
    }
   ],
   "source": [
    "pwd"
   ]
  },
  {
   "cell_type": "code",
   "execution_count": 14,
   "id": "b7749748",
   "metadata": {},
   "outputs": [
    {
     "name": "stdout",
     "output_type": "stream",
     "text": [
      "This is my first ever module\n"
     ]
    }
   ],
   "source": [
    "import test"
   ]
  },
  {
   "cell_type": "code",
   "execution_count": 15,
   "id": "174c5026",
   "metadata": {},
   "outputs": [],
   "source": [
    "import test"
   ]
  },
  {
   "cell_type": "code",
   "execution_count": 16,
   "id": "03602f66",
   "metadata": {},
   "outputs": [],
   "source": [
    "import test"
   ]
  },
  {
   "cell_type": "code",
   "execution_count": 17,
   "id": "5ec62170",
   "metadata": {},
   "outputs": [],
   "source": [
    "import imp"
   ]
  },
  {
   "cell_type": "code",
   "execution_count": 18,
   "id": "da9b5862",
   "metadata": {},
   "outputs": [
    {
     "name": "stdout",
     "output_type": "stream",
     "text": [
      "This is my first ever module\n"
     ]
    },
    {
     "data": {
      "text/plain": [
       "<module 'test' from 'C:\\\\Users\\\\Hp\\\\Desktop\\\\Untitled Folder 1\\\\test.py'>"
      ]
     },
     "execution_count": 18,
     "metadata": {},
     "output_type": "execute_result"
    }
   ],
   "source": [
    "imp.reload(test)"
   ]
  },
  {
   "cell_type": "code",
   "execution_count": 19,
   "id": "0e968eac",
   "metadata": {},
   "outputs": [],
   "source": [
    "import arithmetic as am"
   ]
  },
  {
   "cell_type": "code",
   "execution_count": 20,
   "id": "4ce2d635",
   "metadata": {},
   "outputs": [
    {
     "data": {
      "text/plain": [
       "5"
      ]
     },
     "execution_count": 20,
     "metadata": {},
     "output_type": "execute_result"
    }
   ],
   "source": [
    "am.add(2,3)"
   ]
  },
  {
   "cell_type": "code",
   "execution_count": 21,
   "id": "a95f49e6",
   "metadata": {},
   "outputs": [],
   "source": [
    "import arithmetic as am"
   ]
  },
  {
   "cell_type": "code",
   "execution_count": 22,
   "id": "46ce12e8",
   "metadata": {},
   "outputs": [
    {
     "data": {
      "text/plain": [
       "6"
      ]
     },
     "execution_count": 22,
     "metadata": {},
     "output_type": "execute_result"
    }
   ],
   "source": [
    "am.mul(2,3)"
   ]
  },
  {
   "cell_type": "code",
   "execution_count": 23,
   "id": "bcaabc8e",
   "metadata": {},
   "outputs": [
    {
     "data": {
      "text/plain": [
       "6"
      ]
     },
     "execution_count": 23,
     "metadata": {},
     "output_type": "execute_result"
    }
   ],
   "source": [
    "am.add(2,4)"
   ]
  },
  {
   "cell_type": "code",
   "execution_count": 24,
   "id": "d0c0a50b",
   "metadata": {},
   "outputs": [
    {
     "data": {
      "text/plain": [
       "16"
      ]
     },
     "execution_count": 24,
     "metadata": {},
     "output_type": "execute_result"
    }
   ],
   "source": [
    "am.power(2,4)"
   ]
  },
  {
   "cell_type": "code",
   "execution_count": 25,
   "id": "cfb57546",
   "metadata": {},
   "outputs": [],
   "source": [
    "import test6"
   ]
  },
  {
   "cell_type": "code",
   "execution_count": 26,
   "id": "46ac51b9",
   "metadata": {},
   "outputs": [
    {
     "data": {
      "text/plain": [
       "{'name': 'sudh', 'course': ['ML', 'DL', 'Py', 'CV'], 'msg': 'This is my class'}"
      ]
     },
     "execution_count": 26,
     "metadata": {},
     "output_type": "execute_result"
    }
   ],
   "source": [
    "test6.data"
   ]
  },
  {
   "cell_type": "code",
   "execution_count": 27,
   "id": "2a6feff8",
   "metadata": {},
   "outputs": [
    {
     "data": {
      "text/plain": [
       "'This is my class'"
      ]
     },
     "execution_count": 27,
     "metadata": {},
     "output_type": "execute_result"
    }
   ],
   "source": [
    "test6.msg()"
   ]
  },
  {
   "cell_type": "code",
   "execution_count": 28,
   "id": "0d85e8a9",
   "metadata": {},
   "outputs": [
    {
     "data": {
      "text/plain": [
       "['ML', 'DL', 'Py', 'CV']"
      ]
     },
     "execution_count": 28,
     "metadata": {},
     "output_type": "execute_result"
    }
   ],
   "source": [
    "test6.get_course()"
   ]
  },
  {
   "cell_type": "code",
   "execution_count": 30,
   "id": "0058b030",
   "metadata": {},
   "outputs": [
    {
     "data": {
      "text/plain": [
       "'C:\\\\Users\\\\Hp\\\\Desktop\\\\Untitled Folder 1'"
      ]
     },
     "execution_count": 30,
     "metadata": {},
     "output_type": "execute_result"
    }
   ],
   "source": [
    "pwd"
   ]
  },
  {
   "cell_type": "code",
   "execution_count": 32,
   "id": "2d2f67bd",
   "metadata": {},
   "outputs": [
    {
     "data": {
      "text/plain": [
       "'C:\\\\Users\\\\Hp\\\\Desktop\\\\Untitled Folder 1'"
      ]
     },
     "execution_count": 32,
     "metadata": {},
     "output_type": "execute_result"
    }
   ],
   "source": [
    "pwd"
   ]
  },
  {
   "cell_type": "code",
   "execution_count": 34,
   "id": "ecb7df2e",
   "metadata": {},
   "outputs": [],
   "source": [
    "import os"
   ]
  },
  {
   "cell_type": "code",
   "execution_count": 35,
   "id": "6ebd160e",
   "metadata": {},
   "outputs": [],
   "source": [
    "os.chdir(\"C:\\\\Users\\\\Hp\\\\Desktop\\\\Untitled Folder 1\\\\test\")"
   ]
  },
  {
   "cell_type": "code",
   "execution_count": 36,
   "id": "ea6cce12",
   "metadata": {},
   "outputs": [
    {
     "data": {
      "text/plain": [
       "'C:\\\\Users\\\\Hp\\\\Desktop\\\\Untitled Folder 1\\\\test'"
      ]
     },
     "execution_count": 36,
     "metadata": {},
     "output_type": "execute_result"
    }
   ],
   "source": [
    "pwd"
   ]
  },
  {
   "cell_type": "code",
   "execution_count": 46,
   "id": "22dd3673",
   "metadata": {},
   "outputs": [],
   "source": [
    "import mod1"
   ]
  },
  {
   "cell_type": "code",
   "execution_count": 47,
   "id": "b6b8fe2a",
   "metadata": {},
   "outputs": [
    {
     "name": "stdout",
     "output_type": "stream",
     "text": [
      "Hello, this is my first function inside test directory for learning modules creation in file mod1.\n"
     ]
    }
   ],
   "source": [
    "mod1.fn1()"
   ]
  },
  {
   "cell_type": "code",
   "execution_count": 48,
   "id": "19625dc4",
   "metadata": {},
   "outputs": [
    {
     "name": "stdout",
     "output_type": "stream",
     "text": [
      "Hello, this is my second function inside test directory for learning modules creation in file mod1.\n"
     ]
    }
   ],
   "source": [
    "mod1.fn2()"
   ]
  },
  {
   "cell_type": "code",
   "execution_count": 49,
   "id": "461b23d5",
   "metadata": {},
   "outputs": [
    {
     "name": "stdout",
     "output_type": "stream",
     "text": [
      "Hello, this is my third function inside test directory for learning modules creation in file mod1.\n"
     ]
    }
   ],
   "source": [
    "mod1.fn3()"
   ]
  },
  {
   "cell_type": "code",
   "execution_count": 50,
   "id": "71a15c21",
   "metadata": {},
   "outputs": [
    {
     "data": {
      "text/plain": [
       "'C:\\\\Users\\\\Hp\\\\Desktop\\\\Untitled Folder 1\\\\test'"
      ]
     },
     "execution_count": 50,
     "metadata": {},
     "output_type": "execute_result"
    }
   ],
   "source": [
    "pwd"
   ]
  },
  {
   "cell_type": "code",
   "execution_count": 51,
   "id": "fe981f08",
   "metadata": {},
   "outputs": [],
   "source": [
    "os.chdir(\"C:\\\\Users\\\\Hp\\\\Desktop\\\\Untitled Folder 1\")"
   ]
  },
  {
   "cell_type": "code",
   "execution_count": 52,
   "id": "cd5e5558",
   "metadata": {},
   "outputs": [
    {
     "data": {
      "text/plain": [
       "'C:\\\\Users\\\\Hp\\\\Desktop\\\\Untitled Folder 1'"
      ]
     },
     "execution_count": 52,
     "metadata": {},
     "output_type": "execute_result"
    }
   ],
   "source": [
    "pwd"
   ]
  },
  {
   "cell_type": "code",
   "execution_count": 1,
   "id": "43ee82db",
   "metadata": {},
   "outputs": [],
   "source": [
    "import test123"
   ]
  },
  {
   "cell_type": "code",
   "execution_count": 2,
   "id": "d69febdc",
   "metadata": {},
   "outputs": [],
   "source": [
    "from test123 import mod1 # created the modules and imported it."
   ]
  },
  {
   "cell_type": "code",
   "execution_count": 3,
   "id": "9af41be0",
   "metadata": {},
   "outputs": [
    {
     "name": "stdout",
     "output_type": "stream",
     "text": [
      "Hello, this is my third function inside test directory for learning modules creation in file mod1.\n"
     ]
    }
   ],
   "source": [
    "mod1.fn3()"
   ]
  },
  {
   "cell_type": "markdown",
   "id": "813e3e07",
   "metadata": {},
   "source": [
    "# Exception Handling"
   ]
  },
  {
   "cell_type": "code",
   "execution_count": 8,
   "id": "d68bb9a5",
   "metadata": {},
   "outputs": [
    {
     "ename": "SyntaxError",
     "evalue": "EOL while scanning string literal (<ipython-input-8-e5adef204994>, line 2)",
     "output_type": "error",
     "traceback": [
      "\u001b[1;36m  File \u001b[1;32m\"<ipython-input-8-e5adef204994>\"\u001b[1;36m, line \u001b[1;32m2\u001b[0m\n\u001b[1;33m    print(\"hbhghbhb)\u001b[0m\n\u001b[1;37m                     ^\u001b[0m\n\u001b[1;31mSyntaxError\u001b[0m\u001b[1;31m:\u001b[0m EOL while scanning string literal\n"
     ]
    }
   ],
   "source": [
    "#Syntactical mistake\n",
    "print(\"hbhghbhb) "
   ]
  },
  {
   "cell_type": "code",
   "execution_count": 11,
   "id": "f63af309",
   "metadata": {},
   "outputs": [
    {
     "ename": "IndentationError",
     "evalue": "expected an indented block (<ipython-input-11-06786003f9c3>, line 2)",
     "output_type": "error",
     "traceback": [
      "\u001b[1;36m  File \u001b[1;32m\"<ipython-input-11-06786003f9c3>\"\u001b[1;36m, line \u001b[1;32m2\u001b[0m\n\u001b[1;33m    print(\"sdsdsdd\")\u001b[0m\n\u001b[1;37m    ^\u001b[0m\n\u001b[1;31mIndentationError\u001b[0m\u001b[1;31m:\u001b[0m expected an indented block\n"
     ]
    }
   ],
   "source": [
    "def test1(): #these types of issues are called compile time issues\n",
    "print(\"sdsdsdd\")"
   ]
  },
  {
   "cell_type": "code",
   "execution_count": 15,
   "id": "5d1650af",
   "metadata": {},
   "outputs": [],
   "source": [
    "def div(a,b):\n",
    "    return a/b"
   ]
  },
  {
   "cell_type": "code",
   "execution_count": 16,
   "id": "b0ca3ce8",
   "metadata": {},
   "outputs": [
    {
     "ename": "ZeroDivisionError",
     "evalue": "division by zero",
     "output_type": "error",
     "traceback": [
      "\u001b[1;31m---------------------------------------------------------------------------\u001b[0m",
      "\u001b[1;31mZeroDivisionError\u001b[0m                         Traceback (most recent call last)",
      "\u001b[1;32m<ipython-input-16-b1cdbd72eb93>\u001b[0m in \u001b[0;36m<module>\u001b[1;34m\u001b[0m\n\u001b[1;32m----> 1\u001b[1;33m \u001b[0mdiv\u001b[0m\u001b[1;33m(\u001b[0m\u001b[1;36m5\u001b[0m\u001b[1;33m,\u001b[0m\u001b[1;36m0\u001b[0m\u001b[1;33m)\u001b[0m\u001b[1;33m\u001b[0m\u001b[1;33m\u001b[0m\u001b[0m\n\u001b[0m\u001b[0;32m      2\u001b[0m \u001b[0mprint\u001b[0m\u001b[1;33m(\u001b[0m\u001b[1;34m\"this is my code after test function\"\u001b[0m\u001b[1;33m)\u001b[0m \u001b[1;31m#this line is not getting executed here because of first one.\u001b[0m\u001b[1;33m\u001b[0m\u001b[1;33m\u001b[0m\u001b[0m\n\u001b[0;32m      3\u001b[0m \u001b[1;33m\u001b[0m\u001b[0m\n\u001b[0;32m      4\u001b[0m \u001b[1;31m#So in modules, if there is error in one module all other module should work.\u001b[0m\u001b[1;33m\u001b[0m\u001b[1;33m\u001b[0m\u001b[1;33m\u001b[0m\u001b[0m\n",
      "\u001b[1;32m<ipython-input-15-31a77414021a>\u001b[0m in \u001b[0;36mdiv\u001b[1;34m(a, b)\u001b[0m\n\u001b[0;32m      1\u001b[0m \u001b[1;32mdef\u001b[0m \u001b[0mdiv\u001b[0m\u001b[1;33m(\u001b[0m\u001b[0ma\u001b[0m\u001b[1;33m,\u001b[0m\u001b[0mb\u001b[0m\u001b[1;33m)\u001b[0m\u001b[1;33m:\u001b[0m\u001b[1;33m\u001b[0m\u001b[1;33m\u001b[0m\u001b[0m\n\u001b[1;32m----> 2\u001b[1;33m     \u001b[1;32mreturn\u001b[0m \u001b[0ma\u001b[0m\u001b[1;33m/\u001b[0m\u001b[0mb\u001b[0m\u001b[1;33m\u001b[0m\u001b[1;33m\u001b[0m\u001b[0m\n\u001b[0m",
      "\u001b[1;31mZeroDivisionError\u001b[0m: division by zero"
     ]
    }
   ],
   "source": [
    "div(5,0)\n",
    "print(\"this is my code after test function\") #this line is not getting executed here because of first one.\n",
    "\n",
    "#So in modules, if there is error in one module all other module should work."
   ]
  },
  {
   "cell_type": "markdown",
   "id": "fed67dff",
   "metadata": {},
   "source": [
    "In production, if someone has provided dataset and my system is not able to execute that dataset so in that case so how would i will be able to handle such issues about which i do not even know and this is where exception handling comes into picture. Every programming language has exception handling. Even a single line of code we should include exception handling."
   ]
  },
  {
   "cell_type": "code",
   "execution_count": 17,
   "id": "dd793133",
   "metadata": {},
   "outputs": [
    {
     "data": {
      "text/plain": [
       "0.8571428571428571"
      ]
     },
     "execution_count": 17,
     "metadata": {},
     "output_type": "execute_result"
    }
   ],
   "source": [
    "div(6,7)"
   ]
  },
  {
   "cell_type": "code",
   "execution_count": 18,
   "id": "5784842b",
   "metadata": {},
   "outputs": [
    {
     "ename": "FileNotFoundError",
     "evalue": "[Errno 2] No such file or directory: 'test.txt'",
     "output_type": "error",
     "traceback": [
      "\u001b[1;31m---------------------------------------------------------------------------\u001b[0m",
      "\u001b[1;31mFileNotFoundError\u001b[0m                         Traceback (most recent call last)",
      "\u001b[1;32m<ipython-input-18-157b76ae4ba1>\u001b[0m in \u001b[0;36m<module>\u001b[1;34m\u001b[0m\n\u001b[1;32m----> 1\u001b[1;33m \u001b[0ma\u001b[0m \u001b[1;33m=\u001b[0m \u001b[0mopen\u001b[0m\u001b[1;33m(\u001b[0m\u001b[1;34m\"test.txt\"\u001b[0m\u001b[1;33m,\u001b[0m \u001b[1;34m'r'\u001b[0m\u001b[1;33m)\u001b[0m\u001b[1;33m\u001b[0m\u001b[1;33m\u001b[0m\u001b[0m\n\u001b[0m",
      "\u001b[1;31mFileNotFoundError\u001b[0m: [Errno 2] No such file or directory: 'test.txt'"
     ]
    }
   ],
   "source": [
    "a = open(\"test.txt\", 'r')"
   ]
  },
  {
   "cell_type": "code",
   "execution_count": 27,
   "id": "3b6c356f",
   "metadata": {},
   "outputs": [
    {
     "ename": "ZeroDivisionError",
     "evalue": "division by zero",
     "output_type": "error",
     "traceback": [
      "\u001b[1;31m---------------------------------------------------------------------------\u001b[0m",
      "\u001b[1;31mZeroDivisionError\u001b[0m                         Traceback (most recent call last)",
      "\u001b[1;32m<ipython-input-27-2835ac7c4a05>\u001b[0m in \u001b[0;36m<module>\u001b[1;34m\u001b[0m\n\u001b[0;32m      1\u001b[0m \u001b[1;32mtry\u001b[0m\u001b[1;33m:\u001b[0m\u001b[1;33m\u001b[0m\u001b[1;33m\u001b[0m\u001b[0m\n\u001b[1;32m----> 2\u001b[1;33m     \u001b[0ma\u001b[0m \u001b[1;33m=\u001b[0m \u001b[1;36m5\u001b[0m\u001b[1;33m/\u001b[0m\u001b[1;36m0\u001b[0m   \u001b[1;31m#try and except handles cannot handle compile time error they only handle run time error\u001b[0m\u001b[1;33m\u001b[0m\u001b[1;33m\u001b[0m\u001b[0m\n\u001b[0m\u001b[0;32m      3\u001b[0m \u001b[1;32mexcept\u001b[0m \u001b[0mIOError\u001b[0m\u001b[1;33m:\u001b[0m\u001b[1;33m\u001b[0m\u001b[1;33m\u001b[0m\u001b[0m\n\u001b[0;32m      4\u001b[0m     \u001b[0mprint\u001b[0m\u001b[1;33m(\u001b[0m\u001b[1;34m\"there is issue with my code\"\u001b[0m\u001b[1;33m)\u001b[0m\u001b[1;33m\u001b[0m\u001b[1;33m\u001b[0m\u001b[0m\n\u001b[0;32m      5\u001b[0m \u001b[1;33m\u001b[0m\u001b[0m\n",
      "\u001b[1;31mZeroDivisionError\u001b[0m: division by zero"
     ]
    }
   ],
   "source": [
    "try:\n",
    "    a = 5/0   #try and except handles cannot handle compile time error they only handle run time error\n",
    "except IOError:\n",
    "    print(\"there is issue with my code\")\n",
    "    "
   ]
  },
  {
   "cell_type": "markdown",
   "id": "284b5301",
   "metadata": {},
   "source": [
    "Exception\n",
    "\n",
    "Base class for all exceptions\n",
    "\n",
    "2\t\n",
    "StopIteration\n",
    "\n",
    "Raised when the next() method of an iterator does not point to any object.\n",
    "\n",
    "3\t\n",
    "SystemExit\n",
    "\n",
    "Raised by the sys.exit() function.\n",
    "\n",
    "4\t\n",
    "StandardError\n",
    "\n",
    "Base class for all built-in exceptions except StopIteration and SystemExit.\n",
    "\n",
    "5\t\n",
    "ArithmeticError\n",
    "\n",
    "Base class for all errors that occur for numeric calculation.\n",
    "\n",
    "6\t\n",
    "OverflowError\n",
    "\n",
    "Raised when a calculation exceeds maximum limit for a numeric type.\n",
    "\n",
    "7\t\n",
    "FloatingPointError\n",
    "\n",
    "Raised when a floating point calculation fails.\n",
    "\n",
    "8\t\n",
    "ZeroDivisionError\n",
    "\n",
    "Raised when division or modulo by zero takes place for all numeric types.\n",
    "\n",
    "9\t\n",
    "AssertionError\n",
    "\n",
    "Raised in case of failure of the Assert statement.\n",
    "\n",
    "10\t\n",
    "AttributeError\n",
    "\n",
    "Raised in case of failure of attribute reference or assignment.\n",
    "\n",
    "11\t\n",
    "EOFError\n",
    "\n",
    "Raised when there is no input from either the raw_input() or input() function and the end of file is reached.\n",
    "\n",
    "12\t\n",
    "ImportError\n",
    "\n",
    "Raised when an import statement fails.\n",
    "\n",
    "13\t\n",
    "KeyboardInterrupt\n",
    "\n",
    "Raised when the user interrupts program execution, usually by pressing Ctrl+c.\n",
    "\n",
    "14\t\n",
    "LookupError\n",
    "\n",
    "Base class for all lookup errors.\n",
    "\n",
    "15\t\n",
    "IndexError\n",
    "\n",
    "Raised when an index is not found in a sequence.\n",
    "\n",
    "16\t\n",
    "KeyError\n",
    "\n",
    "Raised when the specified key is not found in the dictionary.\n",
    "\n",
    "17\t\n",
    "NameError\n",
    "\n",
    "Raised when an identifier is not found in the local or global namespace.\n",
    "\n",
    "18\t\n",
    "UnboundLocalError\n",
    "\n",
    "Raised when trying to access a local variable in a function or method but no value has been assigned to it.\n",
    "\n",
    "19\t\n",
    "EnvironmentError\n",
    "\n",
    "Base class for all exceptions that occur outside the Python environment.\n",
    "\n",
    "20\t\n",
    "IOError\n",
    "\n",
    "Raised when an input/ output operation fails, such as the print statement or the open() function when trying to open a file that does not exist.\n",
    "\n",
    "21\t\n",
    "IOError\n",
    "\n",
    "Raised for operating system-related errors.\n",
    "\n",
    "22\t\n",
    "SyntaxError\n",
    "\n",
    "Raised when there is an error in Python syntax.\n",
    "\n",
    "23\t\n",
    "IndentationError\n",
    "\n",
    "Raised when indentation is not specified properly.\n",
    "\n",
    "24\t\n",
    "SystemError\n",
    "\n",
    "Raised when the interpreter finds an internal problem, but when this error is encountered the Python interpreter does not exit.\n",
    "\n",
    "25\t\n",
    "SystemExit\n",
    "\n",
    "Raised when Python interpreter is quit by using the sys.exit() function. If not handled in the code, causes the interpreter to exit.\n",
    "\n",
    "26\t\n",
    "TypeError\n",
    "\n",
    "Raised when an operation or function is attempted that is invalid for the specified data type.\n",
    "\n",
    "27\t\n",
    "ValueError\n",
    "\n",
    "Raised when the built-in function for a data type has the valid type of arguments, but the arguments have invalid values specified.\n",
    "\n",
    "28\t\n",
    "RuntimeError\n",
    "\n",
    "Raised when a generated error does not fall into any category.\n",
    "\n",
    "29\t\n",
    "NotImplementedError\n",
    "\n",
    "Raised when an abstract method that needs to be implemented in an inherited class is not actually implemented."
   ]
  },
  {
   "cell_type": "code",
   "execution_count": 31,
   "id": "7b2c16ac",
   "metadata": {},
   "outputs": [
    {
     "name": "stdout",
     "output_type": "stream",
     "text": [
      "There is issue with my code division by zero\n"
     ]
    }
   ],
   "source": [
    "try:\n",
    "    a = 5/0\n",
    "except ArithmeticError as e:\n",
    "    print(\"There is issue with my code\", e)\n",
    "else:\n",
    "    print(\"This will execute once try block execute with success\")"
   ]
  },
  {
   "cell_type": "code",
   "execution_count": 47,
   "id": "0054bc85",
   "metadata": {},
   "outputs": [
    {
     "name": "stdout",
     "output_type": "stream",
     "text": [
      "Enter the first number 5\n",
      "Enter the second Number 0\n",
      "There is issue with my code division by zero\n"
     ]
    }
   ],
   "source": [
    "try:\n",
    "    a = int(input(\"Enter the first number \"))\n",
    "    b = int(input(\"Enter the second Number \"))\n",
    "    c = a/b\n",
    "    print(c)\n",
    "except ArithmeticError as e:\n",
    "    print(\"There is issue with my code\", e)\n",
    "    f = open('test22.txt', 'w+')\n",
    "    f.read()\n",
    "else:\n",
    "    print(\"This will execute once try block execute with success.\")\n",
    "    try:\n",
    "        f = open(\"smile\", 'r')\n",
    "        print(f.read())\n",
    "    except:\n",
    "        print(\"This is an issue with internal block.\")"
   ]
  },
  {
   "cell_type": "code",
   "execution_count": 34,
   "id": "a21dab8c",
   "metadata": {},
   "outputs": [
    {
     "data": {
      "text/plain": [
       "'C:\\\\Users\\\\Hp\\\\Desktop\\\\Untitled Folder 1'"
      ]
     },
     "execution_count": 34,
     "metadata": {},
     "output_type": "execute_result"
    }
   ],
   "source": [
    "pwd"
   ]
  },
  {
   "cell_type": "markdown",
   "id": "232bd486",
   "metadata": {},
   "source": [
    "   # try:\n",
    "# Issue:\n",
    "#  Go run the except\n",
    "# No issue:\n",
    "#   Go to else"
   ]
  },
  {
   "cell_type": "code",
   "execution_count": 50,
   "id": "e76273f1",
   "metadata": {},
   "outputs": [
    {
     "ename": "IndexError",
     "evalue": "list index out of range",
     "output_type": "error",
     "traceback": [
      "\u001b[1;31m---------------------------------------------------------------------------\u001b[0m",
      "\u001b[1;31mIndexError\u001b[0m                                Traceback (most recent call last)",
      "\u001b[1;32m<ipython-input-50-28819a4418a8>\u001b[0m in \u001b[0;36m<module>\u001b[1;34m\u001b[0m\n\u001b[0;32m      1\u001b[0m \u001b[0ml\u001b[0m \u001b[1;33m=\u001b[0m \u001b[1;33m[\u001b[0m\u001b[1;36m4\u001b[0m\u001b[1;33m,\u001b[0m\u001b[1;36m5\u001b[0m\u001b[1;33m,\u001b[0m\u001b[1;36m6\u001b[0m\u001b[1;33m,\u001b[0m\u001b[1;36m7\u001b[0m\u001b[1;33m,\u001b[0m\u001b[1;36m8\u001b[0m\u001b[1;33m,\u001b[0m\u001b[1;36m9\u001b[0m\u001b[1;33m,\u001b[0m\u001b[1;36m0\u001b[0m\u001b[1;33m]\u001b[0m\u001b[1;33m\u001b[0m\u001b[1;33m\u001b[0m\u001b[0m\n\u001b[1;32m----> 2\u001b[1;33m \u001b[0mprint\u001b[0m\u001b[1;33m(\u001b[0m\u001b[0ml\u001b[0m\u001b[1;33m[\u001b[0m\u001b[1;36m100\u001b[0m\u001b[1;33m]\u001b[0m\u001b[1;33m)\u001b[0m\u001b[1;33m\u001b[0m\u001b[1;33m\u001b[0m\u001b[0m\n\u001b[0m\u001b[0;32m      3\u001b[0m \u001b[1;33m\u001b[0m\u001b[0m\n\u001b[0;32m      4\u001b[0m \u001b[1;33m\u001b[0m\u001b[0m\n\u001b[0;32m      5\u001b[0m \u001b[0mt\u001b[0m \u001b[1;33m=\u001b[0m \u001b[1;33m(\u001b[0m\u001b[1;36m3\u001b[0m\u001b[1;33m,\u001b[0m\u001b[1;36m5\u001b[0m\u001b[1;33m,\u001b[0m\u001b[1;36m6\u001b[0m\u001b[1;33m,\u001b[0m\u001b[1;36m7\u001b[0m\u001b[1;33m,\u001b[0m\u001b[1;36m8\u001b[0m\u001b[1;33m,\u001b[0m\u001b[1;36m9\u001b[0m\u001b[1;33m,\u001b[0m\u001b[1;36m4\u001b[0m\u001b[1;33m)\u001b[0m\u001b[1;33m\u001b[0m\u001b[1;33m\u001b[0m\u001b[0m\n",
      "\u001b[1;31mIndexError\u001b[0m: list index out of range"
     ]
    }
   ],
   "source": [
    "l = [4,5,6,7,8,9,0]\n",
    "print(l[100])\n",
    "\n",
    "\n",
    "t = (3,5,6,7,8,9,4)\n",
    "print(t)"
   ]
  },
  {
   "cell_type": "code",
   "execution_count": 55,
   "id": "7a8d1714",
   "metadata": {},
   "outputs": [
    {
     "name": "stdout",
     "output_type": "stream",
     "text": [
      "There is issue with my code\n",
      "(4, 5, 6, 7, 8, 9)\n",
      "tuples are immutable\n"
     ]
    }
   ],
   "source": [
    "try :\n",
    "    l = [3,4,5,6,7,8,9,0]\n",
    "    print(l[100])\n",
    "except:\n",
    "    print(\"There is issue with my code\")\n",
    "    t = (4,5,6,7,8,9)\n",
    "    print(t)\n",
    "    try:\n",
    "        t[0] = 'sudh'\n",
    "    except:\n",
    "        print(\"tuples are immutable\")\n",
    "else:\n",
    "    print(\"There is no issue with my code\")"
   ]
  },
  {
   "cell_type": "code",
   "execution_count": 54,
   "id": "12e62f39",
   "metadata": {},
   "outputs": [],
   "source": [
    "#tuples are immutable and list is mutable"
   ]
  },
  {
   "cell_type": "code",
   "execution_count": 65,
   "id": "c130000e",
   "metadata": {},
   "outputs": [
    {
     "name": "stdout",
     "output_type": "stream",
     "text": [
      "There is not a problem with try block\n",
      "finally, I will execute in any case.\n"
     ]
    }
   ],
   "source": [
    "try :\n",
    "    f = open('test22.txt', 'w+')\n",
    "except:\n",
    "    pass\n",
    "else:\n",
    "    print(\"There is not a problem with try block\")\n",
    "finally:\n",
    "    print(\"finally, I will execute in any case.\")\n",
    "    try :\n",
    "        l = [4,5,6,7]\n",
    "        print(l[10])\n",
    "    except:\n",
    "        pass\n",
    "        \n",
    "    "
   ]
  },
  {
   "cell_type": "code",
   "execution_count": 68,
   "id": "ac22ce65",
   "metadata": {},
   "outputs": [
    {
     "name": "stdout",
     "output_type": "stream",
     "text": [
      "This is my error [Errno 2] No such file or directory: 'test21.txt'\n"
     ]
    }
   ],
   "source": [
    "try :\n",
    "    f = open('test21.txt', 'r')\n",
    "except IOError as e:\n",
    "    print(\"This is my error\", e)"
   ]
  },
  {
   "cell_type": "code",
   "execution_count": 6,
   "id": "ef00e71d",
   "metadata": {},
   "outputs": [],
   "source": [
    "def askforint():\n",
    "    while True:\n",
    "        try:\n",
    "            a = int(input(\"Enter the integer: \"))\n",
    "        except Exception as e: #Exception is a superclass it able to catch everytype of exception.\n",
    "            print(\"This is my error msg: \", e)\n",
    "        else:\n",
    "            print(\"User has given correct value\")\n",
    "            break;\n",
    "        finally:\n",
    "            print(\"Close this issue\")"
   ]
  },
  {
   "cell_type": "code",
   "execution_count": 7,
   "id": "ede98b22",
   "metadata": {},
   "outputs": [
    {
     "name": "stdout",
     "output_type": "stream",
     "text": [
      "Enter the integer: 5\n",
      "User has given correct value\n",
      "Close this issue\n"
     ]
    }
   ],
   "source": [
    "askforint()"
   ]
  },
  {
   "cell_type": "code",
   "execution_count": 5,
   "id": "601778ec",
   "metadata": {},
   "outputs": [
    {
     "name": "stdout",
     "output_type": "stream",
     "text": [
      "Enter the integer: jsndj\n",
      "This is my error msg:  invalid literal for int() with base 10: 'jsndj'\n",
      "Close this issue\n",
      "Enter the integer: sdsd\n",
      "This is my error msg:  invalid literal for int() with base 10: 'sdsd'\n",
      "Close this issue\n",
      "Enter the integer: sdsds\n",
      "This is my error msg:  invalid literal for int() with base 10: 'sdsds'\n",
      "Close this issue\n",
      "Enter the integer: sdsdf\n",
      "This is my error msg:  invalid literal for int() with base 10: 'sdsdf'\n",
      "Close this issue\n",
      "Enter the integer: 10\n",
      "Close this issue\n"
     ]
    }
   ],
   "source": [
    "askforint()"
   ]
  },
  {
   "cell_type": "code",
   "execution_count": 9,
   "id": "5d22785b",
   "metadata": {},
   "outputs": [],
   "source": [
    "def askforint():\n",
    "    while True:\n",
    "        try:\n",
    "            a = int(input(\"Enter the integer: \"))\n",
    "        except Exception as e: #Exception is a superclass it able to catch everytype of exception.\n",
    "            print(\"This is my error msg: \", e)\n",
    "            break;\n",
    "        else:\n",
    "            print(\"User has given correct value\")\n",
    "            break;\n",
    "        finally:\n",
    "            print(\"Close this issue\")"
   ]
  },
  {
   "cell_type": "code",
   "execution_count": 10,
   "id": "169e9bcb",
   "metadata": {},
   "outputs": [
    {
     "name": "stdout",
     "output_type": "stream",
     "text": [
      "Enter the integer: fdfsd\n",
      "This is my error msg:  invalid literal for int() with base 10: 'fdfsd'\n",
      "Close this issue\n"
     ]
    }
   ],
   "source": [
    "askforint()"
   ]
  },
  {
   "cell_type": "code",
   "execution_count": 11,
   "id": "a2267f4b",
   "metadata": {},
   "outputs": [],
   "source": [
    "def askforint():\n",
    "    while True:\n",
    "        try:\n",
    "            a = int(input(\"Enter the integer: \"))\n",
    "        except FileNotFoundError as e: #Exception is a superclass it able to catch everytype of exception.\n",
    "            print(\"This is my error msg: \", e)\n",
    "        else:\n",
    "            print(\"User has given correct value\")\n",
    "            break;\n",
    "        finally:\n",
    "            print(\"Close this issue\")"
   ]
  },
  {
   "cell_type": "code",
   "execution_count": 12,
   "id": "83f9c3f2",
   "metadata": {},
   "outputs": [
    {
     "name": "stdout",
     "output_type": "stream",
     "text": [
      "Enter the integer: sdfsdf\n",
      "Close this issue\n"
     ]
    },
    {
     "ename": "ValueError",
     "evalue": "invalid literal for int() with base 10: 'sdfsdf'",
     "output_type": "error",
     "traceback": [
      "\u001b[1;31m---------------------------------------------------------------------------\u001b[0m",
      "\u001b[1;31mValueError\u001b[0m                                Traceback (most recent call last)",
      "\u001b[1;32m<ipython-input-12-80c9c030d41a>\u001b[0m in \u001b[0;36m<module>\u001b[1;34m\u001b[0m\n\u001b[1;32m----> 1\u001b[1;33m \u001b[0maskforint\u001b[0m\u001b[1;33m(\u001b[0m\u001b[1;33m)\u001b[0m\u001b[1;33m\u001b[0m\u001b[1;33m\u001b[0m\u001b[0m\n\u001b[0m",
      "\u001b[1;32m<ipython-input-11-afdd772b8eac>\u001b[0m in \u001b[0;36maskforint\u001b[1;34m()\u001b[0m\n\u001b[0;32m      2\u001b[0m     \u001b[1;32mwhile\u001b[0m \u001b[1;32mTrue\u001b[0m\u001b[1;33m:\u001b[0m\u001b[1;33m\u001b[0m\u001b[1;33m\u001b[0m\u001b[0m\n\u001b[0;32m      3\u001b[0m         \u001b[1;32mtry\u001b[0m\u001b[1;33m:\u001b[0m\u001b[1;33m\u001b[0m\u001b[1;33m\u001b[0m\u001b[0m\n\u001b[1;32m----> 4\u001b[1;33m             \u001b[0ma\u001b[0m \u001b[1;33m=\u001b[0m \u001b[0mint\u001b[0m\u001b[1;33m(\u001b[0m\u001b[0minput\u001b[0m\u001b[1;33m(\u001b[0m\u001b[1;34m\"Enter the integer: \"\u001b[0m\u001b[1;33m)\u001b[0m\u001b[1;33m)\u001b[0m\u001b[1;33m\u001b[0m\u001b[1;33m\u001b[0m\u001b[0m\n\u001b[0m\u001b[0;32m      5\u001b[0m         \u001b[1;32mexcept\u001b[0m \u001b[0mFileNotFoundError\u001b[0m \u001b[1;32mas\u001b[0m \u001b[0me\u001b[0m\u001b[1;33m:\u001b[0m \u001b[1;31m#Exception is a superclass it able to catch everytype of exception.\u001b[0m\u001b[1;33m\u001b[0m\u001b[1;33m\u001b[0m\u001b[0m\n\u001b[0;32m      6\u001b[0m             \u001b[0mprint\u001b[0m\u001b[1;33m(\u001b[0m\u001b[1;34m\"This is my error msg: \"\u001b[0m\u001b[1;33m,\u001b[0m \u001b[0me\u001b[0m\u001b[1;33m)\u001b[0m\u001b[1;33m\u001b[0m\u001b[1;33m\u001b[0m\u001b[0m\n",
      "\u001b[1;31mValueError\u001b[0m: invalid literal for int() with base 10: 'sdfsdf'"
     ]
    }
   ],
   "source": [
    "askforint()"
   ]
  },
  {
   "cell_type": "code",
   "execution_count": 13,
   "id": "802c0e20",
   "metadata": {},
   "outputs": [],
   "source": [
    "def askforint():\n",
    "    while True:\n",
    "        try:\n",
    "            a = int(input(\"Enter the integer: \"))\n",
    "        except FileNotFoundError as e: #Exception is a superclass it able to catch everytype of exception.\n",
    "            print(\"This is my error msg: \", e)\n",
    "        except IOError as e:\n",
    "            print(e)\n",
    "        else:\n",
    "            print(\"User has given correct value\")\n",
    "            break;\n",
    "        finally:\n",
    "            print(\"Close this issue\")"
   ]
  },
  {
   "cell_type": "code",
   "execution_count": 14,
   "id": "a9ea6fd2",
   "metadata": {},
   "outputs": [
    {
     "name": "stdout",
     "output_type": "stream",
     "text": [
      "Enter the integer: esfsdf\n",
      "Close this issue\n"
     ]
    },
    {
     "ename": "ValueError",
     "evalue": "invalid literal for int() with base 10: 'esfsdf'",
     "output_type": "error",
     "traceback": [
      "\u001b[1;31m---------------------------------------------------------------------------\u001b[0m",
      "\u001b[1;31mValueError\u001b[0m                                Traceback (most recent call last)",
      "\u001b[1;32m<ipython-input-14-80c9c030d41a>\u001b[0m in \u001b[0;36m<module>\u001b[1;34m\u001b[0m\n\u001b[1;32m----> 1\u001b[1;33m \u001b[0maskforint\u001b[0m\u001b[1;33m(\u001b[0m\u001b[1;33m)\u001b[0m\u001b[1;33m\u001b[0m\u001b[1;33m\u001b[0m\u001b[0m\n\u001b[0m",
      "\u001b[1;32m<ipython-input-13-694bd94c4f93>\u001b[0m in \u001b[0;36maskforint\u001b[1;34m()\u001b[0m\n\u001b[0;32m      2\u001b[0m     \u001b[1;32mwhile\u001b[0m \u001b[1;32mTrue\u001b[0m\u001b[1;33m:\u001b[0m\u001b[1;33m\u001b[0m\u001b[1;33m\u001b[0m\u001b[0m\n\u001b[0;32m      3\u001b[0m         \u001b[1;32mtry\u001b[0m\u001b[1;33m:\u001b[0m\u001b[1;33m\u001b[0m\u001b[1;33m\u001b[0m\u001b[0m\n\u001b[1;32m----> 4\u001b[1;33m             \u001b[0ma\u001b[0m \u001b[1;33m=\u001b[0m \u001b[0mint\u001b[0m\u001b[1;33m(\u001b[0m\u001b[0minput\u001b[0m\u001b[1;33m(\u001b[0m\u001b[1;34m\"Enter the integer: \"\u001b[0m\u001b[1;33m)\u001b[0m\u001b[1;33m)\u001b[0m\u001b[1;33m\u001b[0m\u001b[1;33m\u001b[0m\u001b[0m\n\u001b[0m\u001b[0;32m      5\u001b[0m         \u001b[1;32mexcept\u001b[0m \u001b[0mFileNotFoundError\u001b[0m \u001b[1;32mas\u001b[0m \u001b[0me\u001b[0m\u001b[1;33m:\u001b[0m \u001b[1;31m#Exception is a superclass it able to catch everytype of exception.\u001b[0m\u001b[1;33m\u001b[0m\u001b[1;33m\u001b[0m\u001b[0m\n\u001b[0;32m      6\u001b[0m             \u001b[0mprint\u001b[0m\u001b[1;33m(\u001b[0m\u001b[1;34m\"This is my error msg: \"\u001b[0m\u001b[1;33m,\u001b[0m \u001b[0me\u001b[0m\u001b[1;33m)\u001b[0m\u001b[1;33m\u001b[0m\u001b[1;33m\u001b[0m\u001b[0m\n",
      "\u001b[1;31mValueError\u001b[0m: invalid literal for int() with base 10: 'esfsdf'"
     ]
    }
   ],
   "source": [
    "askforint()"
   ]
  },
  {
   "cell_type": "code",
   "execution_count": 17,
   "id": "24c1d182",
   "metadata": {},
   "outputs": [],
   "source": [
    "def askforint():\n",
    "    while True:\n",
    "        try:\n",
    "            a = int(input(\"Enter the integer: \"))\n",
    "        except FileNotFoundError as e: #Exception is a superclass it able to catch everytype of exception.\n",
    "            print(\"This is my error msg: \", e)\n",
    "        except IOError as e:\n",
    "            print(e)\n",
    "        except ValueError as e: #When I introduced this I am not getting error and this excetion has been handled.\n",
    "            print(e)\n",
    "        else:\n",
    "            print(\"User has given correct value\")\n",
    "            break;\n",
    "        finally:\n",
    "            print(\"Close this issue\")"
   ]
  },
  {
   "cell_type": "code",
   "execution_count": 18,
   "id": "3dca72de",
   "metadata": {},
   "outputs": [
    {
     "name": "stdout",
     "output_type": "stream",
     "text": [
      "Enter the integer: erfrf\n",
      "invalid literal for int() with base 10: 'erfrf'\n",
      "Close this issue\n",
      "Enter the integer: 5\n",
      "User has given correct value\n",
      "Close this issue\n"
     ]
    }
   ],
   "source": [
    "askforint()"
   ]
  },
  {
   "cell_type": "code",
   "execution_count": 19,
   "id": "e6d96263",
   "metadata": {},
   "outputs": [],
   "source": [
    "def askforint():\n",
    "    while True:\n",
    "        try:\n",
    "            a = int(input(\"Enter the integer: \"))\n",
    "            c = 8/a\n",
    "        except FileNotFoundError as e: #Exception is a superclass it able to catch everytype of exception.\n",
    "            print(\"This is my error msg: \", e)\n",
    "        except IOError as e:\n",
    "            print(e)\n",
    "        except ValueError as e: #When I introduced this I am not getting error and this excetion has been handled.\n",
    "            print(e)\n",
    "        else:\n",
    "            print(\"User has given correct value\")\n",
    "            break;\n",
    "        finally:\n",
    "            print(\"Close this issue\")"
   ]
  },
  {
   "cell_type": "code",
   "execution_count": 20,
   "id": "87983c27",
   "metadata": {},
   "outputs": [
    {
     "name": "stdout",
     "output_type": "stream",
     "text": [
      "Enter the integer: dfds\n",
      "invalid literal for int() with base 10: 'dfds'\n",
      "Close this issue\n",
      "Enter the integer: 5\n",
      "User has given correct value\n",
      "Close this issue\n"
     ]
    }
   ],
   "source": [
    "askforint()"
   ]
  },
  {
   "cell_type": "code",
   "execution_count": 21,
   "id": "dbec56a5",
   "metadata": {},
   "outputs": [
    {
     "name": "stdout",
     "output_type": "stream",
     "text": [
      "Enter the integer: 0\n",
      "Close this issue\n"
     ]
    },
    {
     "ename": "ZeroDivisionError",
     "evalue": "division by zero",
     "output_type": "error",
     "traceback": [
      "\u001b[1;31m---------------------------------------------------------------------------\u001b[0m",
      "\u001b[1;31mZeroDivisionError\u001b[0m                         Traceback (most recent call last)",
      "\u001b[1;32m<ipython-input-21-80c9c030d41a>\u001b[0m in \u001b[0;36m<module>\u001b[1;34m\u001b[0m\n\u001b[1;32m----> 1\u001b[1;33m \u001b[0maskforint\u001b[0m\u001b[1;33m(\u001b[0m\u001b[1;33m)\u001b[0m\u001b[1;33m\u001b[0m\u001b[1;33m\u001b[0m\u001b[0m\n\u001b[0m",
      "\u001b[1;32m<ipython-input-19-fa573cef3616>\u001b[0m in \u001b[0;36maskforint\u001b[1;34m()\u001b[0m\n\u001b[0;32m      3\u001b[0m         \u001b[1;32mtry\u001b[0m\u001b[1;33m:\u001b[0m\u001b[1;33m\u001b[0m\u001b[1;33m\u001b[0m\u001b[0m\n\u001b[0;32m      4\u001b[0m             \u001b[0ma\u001b[0m \u001b[1;33m=\u001b[0m \u001b[0mint\u001b[0m\u001b[1;33m(\u001b[0m\u001b[0minput\u001b[0m\u001b[1;33m(\u001b[0m\u001b[1;34m\"Enter the integer: \"\u001b[0m\u001b[1;33m)\u001b[0m\u001b[1;33m)\u001b[0m\u001b[1;33m\u001b[0m\u001b[1;33m\u001b[0m\u001b[0m\n\u001b[1;32m----> 5\u001b[1;33m             \u001b[0mc\u001b[0m \u001b[1;33m=\u001b[0m \u001b[1;36m8\u001b[0m\u001b[1;33m/\u001b[0m\u001b[0ma\u001b[0m\u001b[1;33m\u001b[0m\u001b[1;33m\u001b[0m\u001b[0m\n\u001b[0m\u001b[0;32m      6\u001b[0m         \u001b[1;32mexcept\u001b[0m \u001b[0mFileNotFoundError\u001b[0m \u001b[1;32mas\u001b[0m \u001b[0me\u001b[0m\u001b[1;33m:\u001b[0m \u001b[1;31m#Exception is a superclass it able to catch everytype of exception.\u001b[0m\u001b[1;33m\u001b[0m\u001b[1;33m\u001b[0m\u001b[0m\n\u001b[0;32m      7\u001b[0m             \u001b[0mprint\u001b[0m\u001b[1;33m(\u001b[0m\u001b[1;34m\"This is my error msg: \"\u001b[0m\u001b[1;33m,\u001b[0m \u001b[0me\u001b[0m\u001b[1;33m)\u001b[0m\u001b[1;33m\u001b[0m\u001b[1;33m\u001b[0m\u001b[0m\n",
      "\u001b[1;31mZeroDivisionError\u001b[0m: division by zero"
     ]
    }
   ],
   "source": [
    "askforint()"
   ]
  },
  {
   "cell_type": "code",
   "execution_count": 1,
   "id": "a47de478",
   "metadata": {},
   "outputs": [],
   "source": [
    "def askforint():\n",
    "    while True:\n",
    "        try:\n",
    "            a = int(input(\"Enter the integer: \"))\n",
    "            c = 8/a\n",
    "        except FileNotFoundError as e: #Exception is a superclass it able to catch everytype of exception.\n",
    "            print(\"This is my error msg: \", e)\n",
    "        except IOError as e:\n",
    "            print(e)\n",
    "        except ValueError as e: #When I introduced this I am not getting error and this excetion has been handled.\n",
    "            print(e)\n",
    "        except Exception as e:\n",
    "            print(\"This is a parent class error\", e)\n",
    "        except ArithmeticError as e: #Heirarchy\n",
    "            print(\"This is a arithmetic error\",e)\n",
    "        except ZeroDivisionError as e:\n",
    "            print(e)\n",
    "        else:\n",
    "            print(\"User has given correct value\")\n",
    "            break;\n",
    "        finally:\n",
    "            print(\"Close this issue\")"
   ]
  },
  {
   "cell_type": "code",
   "execution_count": 2,
   "id": "7bea8b7e",
   "metadata": {},
   "outputs": [
    {
     "name": "stdout",
     "output_type": "stream",
     "text": [
      "Enter the integer: 5\n",
      "User has given correct value\n",
      "Close this issue\n"
     ]
    }
   ],
   "source": [
    "askforint()"
   ]
  },
  {
   "cell_type": "code",
   "execution_count": 3,
   "id": "f4fa8d64",
   "metadata": {},
   "outputs": [
    {
     "name": "stdout",
     "output_type": "stream",
     "text": [
      "Enter the integer: 0\n",
      "This is a parent class error division by zero\n",
      "Close this issue\n",
      "Enter the integer: 4\n",
      "User has given correct value\n",
      "Close this issue\n"
     ]
    }
   ],
   "source": [
    "askforint()"
   ]
  },
  {
   "cell_type": "code",
   "execution_count": 4,
   "id": "9a6a341a",
   "metadata": {},
   "outputs": [
    {
     "ename": "ZeroDivisionError",
     "evalue": "division by zero",
     "output_type": "error",
     "traceback": [
      "\u001b[1;31m---------------------------------------------------------------------------\u001b[0m",
      "\u001b[1;31mZeroDivisionError\u001b[0m                         Traceback (most recent call last)",
      "\u001b[1;32m<ipython-input-4-0106664d39e8>\u001b[0m in \u001b[0;36m<module>\u001b[1;34m\u001b[0m\n\u001b[1;32m----> 1\u001b[1;33m \u001b[1;36m5\u001b[0m\u001b[1;33m/\u001b[0m\u001b[1;36m0\u001b[0m\u001b[1;33m\u001b[0m\u001b[1;33m\u001b[0m\u001b[0m\n\u001b[0m",
      "\u001b[1;31mZeroDivisionError\u001b[0m: division by zero"
     ]
    }
   ],
   "source": [
    "5/0"
   ]
  },
  {
   "cell_type": "code",
   "execution_count": 5,
   "id": "1febf7f2",
   "metadata": {},
   "outputs": [
    {
     "data": {
      "text/plain": [
       "0.8333333333333334"
      ]
     },
     "execution_count": 5,
     "metadata": {},
     "output_type": "execute_result"
    }
   ],
   "source": [
    "5/6"
   ]
  },
  {
   "cell_type": "code",
   "execution_count": 19,
   "id": "ce36f910",
   "metadata": {},
   "outputs": [],
   "source": [
    "#Custom Excpetion\n",
    "\n",
    "def create_your_exception(a):\n",
    "    if a == 6:\n",
    "        raise Exception(\"error is \", a)\n",
    "    else:\n",
    "        print(\"Input is OK\")\n",
    "    return a"
   ]
  },
  {
   "cell_type": "code",
   "execution_count": 20,
   "id": "0699f140",
   "metadata": {},
   "outputs": [
    {
     "ename": "Exception",
     "evalue": "('error is ', 6)",
     "output_type": "error",
     "traceback": [
      "\u001b[1;31m---------------------------------------------------------------------------\u001b[0m",
      "\u001b[1;31mException\u001b[0m                                 Traceback (most recent call last)",
      "\u001b[1;32m<ipython-input-20-646dc0bb2e87>\u001b[0m in \u001b[0;36m<module>\u001b[1;34m\u001b[0m\n\u001b[1;32m----> 1\u001b[1;33m \u001b[0mcreate_your_exception\u001b[0m\u001b[1;33m(\u001b[0m\u001b[1;36m6\u001b[0m\u001b[1;33m)\u001b[0m\u001b[1;33m\u001b[0m\u001b[1;33m\u001b[0m\u001b[0m\n\u001b[0m",
      "\u001b[1;32m<ipython-input-19-cd98baa21d56>\u001b[0m in \u001b[0;36mcreate_your_exception\u001b[1;34m(a)\u001b[0m\n\u001b[0;32m      3\u001b[0m \u001b[1;32mdef\u001b[0m \u001b[0mcreate_your_exception\u001b[0m\u001b[1;33m(\u001b[0m\u001b[0ma\u001b[0m\u001b[1;33m)\u001b[0m\u001b[1;33m:\u001b[0m\u001b[1;33m\u001b[0m\u001b[1;33m\u001b[0m\u001b[0m\n\u001b[0;32m      4\u001b[0m     \u001b[1;32mif\u001b[0m \u001b[0ma\u001b[0m \u001b[1;33m==\u001b[0m \u001b[1;36m6\u001b[0m\u001b[1;33m:\u001b[0m\u001b[1;33m\u001b[0m\u001b[1;33m\u001b[0m\u001b[0m\n\u001b[1;32m----> 5\u001b[1;33m         \u001b[1;32mraise\u001b[0m \u001b[0mException\u001b[0m\u001b[1;33m(\u001b[0m\u001b[1;34m\"error is \"\u001b[0m\u001b[1;33m,\u001b[0m \u001b[0ma\u001b[0m\u001b[1;33m)\u001b[0m\u001b[1;33m\u001b[0m\u001b[1;33m\u001b[0m\u001b[0m\n\u001b[0m\u001b[0;32m      6\u001b[0m     \u001b[1;32melse\u001b[0m\u001b[1;33m:\u001b[0m\u001b[1;33m\u001b[0m\u001b[1;33m\u001b[0m\u001b[0m\n\u001b[0;32m      7\u001b[0m         \u001b[0mprint\u001b[0m\u001b[1;33m(\u001b[0m\u001b[1;34m\"Input is OK\"\u001b[0m\u001b[1;33m)\u001b[0m\u001b[1;33m\u001b[0m\u001b[1;33m\u001b[0m\u001b[0m\n",
      "\u001b[1;31mException\u001b[0m: ('error is ', 6)"
     ]
    }
   ],
   "source": [
    "\n",
    "create_your_exception(6)"
   ]
  },
  {
   "cell_type": "code",
   "execution_count": 21,
   "id": "2542f338",
   "metadata": {},
   "outputs": [
    {
     "name": "stdout",
     "output_type": "stream",
     "text": [
      "Input is OK\n"
     ]
    },
    {
     "data": {
      "text/plain": [
       "7"
      ]
     },
     "execution_count": 21,
     "metadata": {},
     "output_type": "execute_result"
    }
   ],
   "source": [
    "create_your_exception(7)"
   ]
  },
  {
   "cell_type": "code",
   "execution_count": 22,
   "id": "c344d999",
   "metadata": {},
   "outputs": [
    {
     "name": "stdout",
     "output_type": "stream",
     "text": [
      "('error is ', 6)\n"
     ]
    }
   ],
   "source": [
    "try : \n",
    "    create_your_exception(6)\n",
    "except Exception as e:\n",
    "    print(e)\n",
    "    "
   ]
  },
  {
   "cell_type": "code",
   "execution_count": 1,
   "id": "77ef4734",
   "metadata": {},
   "outputs": [],
   "source": [
    "import mo1"
   ]
  },
  {
   "cell_type": "code",
   "execution_count": 2,
   "id": "41af0e12",
   "metadata": {},
   "outputs": [
    {
     "data": {
      "text/plain": [
       "[2, 4, 6]"
      ]
     },
     "execution_count": 2,
     "metadata": {},
     "output_type": "execute_result"
    }
   ],
   "source": [
    "mo1.even_num(6)"
   ]
  },
  {
   "cell_type": "code",
   "execution_count": null,
   "id": "848f9d04",
   "metadata": {},
   "outputs": [],
   "source": []
  },
  {
   "cell_type": "code",
   "execution_count": 4,
   "id": "146442be",
   "metadata": {},
   "outputs": [
    {
     "name": "stdout",
     "output_type": "stream",
     "text": [
      "Enter a number 23.5\n",
      "invalid literal for int() with base 10: '23.5'\n",
      "Enter a number sudh\n",
      "invalid literal for int() with base 10: 'sudh'\n",
      "Enter a number 12\n",
      "[2, 4, 6, 8, 10, 12]\n",
      "Input is OK\n"
     ]
    }
   ],
   "source": [
    "while True:\n",
    "    try :\n",
    "        a = int(input(\"Enter a number \"))\n",
    "        print(mo1.even_num(a))\n",
    "    except Exception as e:\n",
    "        print(e)\n",
    "    else:\n",
    "        print(\"Input is OK\")\n",
    "        break;"
   ]
  },
  {
   "cell_type": "code",
   "execution_count": null,
   "id": "46c2a544",
   "metadata": {},
   "outputs": [],
   "source": []
  }
 ],
 "metadata": {
  "kernelspec": {
   "display_name": "Python 3",
   "language": "python",
   "name": "python3"
  },
  "language_info": {
   "codemirror_mode": {
    "name": "ipython",
    "version": 3
   },
   "file_extension": ".py",
   "mimetype": "text/x-python",
   "name": "python",
   "nbconvert_exporter": "python",
   "pygments_lexer": "ipython3",
   "version": "3.8.8"
  }
 },
 "nbformat": 4,
 "nbformat_minor": 5
}
