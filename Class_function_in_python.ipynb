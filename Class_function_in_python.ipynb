{
  "nbformat": 4,
  "nbformat_minor": 0,
  "metadata": {
    "colab": {
      "name": "Class function in python.ipynb",
      "provenance": [],
      "authorship_tag": "ABX9TyMg1kb91svDAFBLWf9CorKP",
      "include_colab_link": true
    },
    "kernelspec": {
      "name": "python3",
      "display_name": "Python 3"
    },
    "language_info": {
      "name": "python"
    }
  },
  "cells": [
    {
      "cell_type": "markdown",
      "metadata": {
        "id": "view-in-github",
        "colab_type": "text"
      },
      "source": [
        "<a href=\"https://colab.research.google.com/github/kunal24bit/Python-Assignments/blob/main/Class_function_in_python.ipynb\" target=\"_parent\"><img src=\"https://colab.research.google.com/assets/colab-badge.svg\" alt=\"Open In Colab\"/></a>"
      ]
    },
    {
      "cell_type": "code",
      "metadata": {
        "colab": {
          "base_uri": "https://localhost:8080/"
        },
        "id": "0AanmaztWeJt",
        "outputId": "51bf3590-8bcc-4463-b52e-29322356c671"
      },
      "source": [
        "a = 10\n",
        "b = 20\n",
        "a+b"
      ],
      "execution_count": 1,
      "outputs": [
        {
          "output_type": "execute_result",
          "data": {
            "text/plain": [
              "30"
            ]
          },
          "metadata": {
            "tags": []
          },
          "execution_count": 1
        }
      ]
    },
    {
      "cell_type": "code",
      "metadata": {
        "id": "hMnnBzh4f9Yy"
      },
      "source": [
        "def test(x,y):\n",
        "  pass"
      ],
      "execution_count": 2,
      "outputs": []
    },
    {
      "cell_type": "code",
      "metadata": {
        "id": "nhbaMF36f_89"
      },
      "source": [
        "test(2,3)"
      ],
      "execution_count": 3,
      "outputs": []
    },
    {
      "cell_type": "code",
      "metadata": {
        "id": "r7FyHNFpgBWc"
      },
      "source": [
        "def test1(x, y):\n",
        "  print(x+y)"
      ],
      "execution_count": 4,
      "outputs": []
    },
    {
      "cell_type": "code",
      "metadata": {
        "colab": {
          "base_uri": "https://localhost:8080/"
        },
        "id": "-wzDzs91gEj0",
        "outputId": "f7afa490-32cf-4159-a194-b3f72e062980"
      },
      "source": [
        "test1(2,3)"
      ],
      "execution_count": 5,
      "outputs": [
        {
          "output_type": "stream",
          "text": [
            "5\n"
          ],
          "name": "stdout"
        }
      ]
    },
    {
      "cell_type": "code",
      "metadata": {
        "colab": {
          "base_uri": "https://localhost:8080/"
        },
        "id": "zj5uEy30gIz0",
        "outputId": "2660be57-be06-49b0-c906-08edeaee6988"
      },
      "source": [
        "type(test1(2,3))"
      ],
      "execution_count": 6,
      "outputs": [
        {
          "output_type": "stream",
          "text": [
            "5\n"
          ],
          "name": "stdout"
        },
        {
          "output_type": "execute_result",
          "data": {
            "text/plain": [
              "NoneType"
            ]
          },
          "metadata": {
            "tags": []
          },
          "execution_count": 6
        }
      ]
    },
    {
      "cell_type": "code",
      "metadata": {
        "colab": {
          "base_uri": "https://localhost:8080/",
          "height": 180
        },
        "id": "2KEuyMiOgOV6",
        "outputId": "2393a14a-823e-461b-ff2c-eac591deb2f1"
      },
      "source": [
        "test1(2,3)+6"
      ],
      "execution_count": 7,
      "outputs": [
        {
          "output_type": "stream",
          "text": [
            "5\n"
          ],
          "name": "stdout"
        },
        {
          "output_type": "error",
          "ename": "TypeError",
          "evalue": "ignored",
          "traceback": [
            "\u001b[0;31m---------------------------------------------------------------------------\u001b[0m",
            "\u001b[0;31mTypeError\u001b[0m                                 Traceback (most recent call last)",
            "\u001b[0;32m<ipython-input-7-735fdb0756b1>\u001b[0m in \u001b[0;36m<module>\u001b[0;34m()\u001b[0m\n\u001b[0;32m----> 1\u001b[0;31m \u001b[0mtest1\u001b[0m\u001b[0;34m(\u001b[0m\u001b[0;36m2\u001b[0m\u001b[0;34m,\u001b[0m\u001b[0;36m3\u001b[0m\u001b[0;34m)\u001b[0m\u001b[0;34m+\u001b[0m\u001b[0;36m6\u001b[0m\u001b[0;34m\u001b[0m\u001b[0;34m\u001b[0m\u001b[0m\n\u001b[0m",
            "\u001b[0;31mTypeError\u001b[0m: unsupported operand type(s) for +: 'NoneType' and 'int'"
          ]
        }
      ]
    },
    {
      "cell_type": "code",
      "metadata": {
        "id": "hgvVZqodgXB2"
      },
      "source": [
        "def test2(a,b):\n",
        "  return a+b"
      ],
      "execution_count": 8,
      "outputs": []
    },
    {
      "cell_type": "code",
      "metadata": {
        "colab": {
          "base_uri": "https://localhost:8080/"
        },
        "id": "vi2CeEZWgcad",
        "outputId": "bb2a8949-6afa-43fa-d658-561225f1d647"
      },
      "source": [
        "test2(2,3)"
      ],
      "execution_count": 9,
      "outputs": [
        {
          "output_type": "execute_result",
          "data": {
            "text/plain": [
              "5"
            ]
          },
          "metadata": {
            "tags": []
          },
          "execution_count": 9
        }
      ]
    },
    {
      "cell_type": "code",
      "metadata": {
        "colab": {
          "base_uri": "https://localhost:8080/"
        },
        "id": "gL4mqiEEgeDN",
        "outputId": "a866c536-9ebf-470c-b67c-b851c00407ef"
      },
      "source": [
        "type(test2(2,3))"
      ],
      "execution_count": 10,
      "outputs": [
        {
          "output_type": "execute_result",
          "data": {
            "text/plain": [
              "int"
            ]
          },
          "metadata": {
            "tags": []
          },
          "execution_count": 10
        }
      ]
    },
    {
      "cell_type": "code",
      "metadata": {
        "colab": {
          "base_uri": "https://localhost:8080/"
        },
        "id": "Wk_lc1vSgrBr",
        "outputId": "11ccb9a0-d269-409c-e08f-477717051e9c"
      },
      "source": [
        "test2(2,3)+14"
      ],
      "execution_count": 11,
      "outputs": [
        {
          "output_type": "execute_result",
          "data": {
            "text/plain": [
              "19"
            ]
          },
          "metadata": {
            "tags": []
          },
          "execution_count": 11
        }
      ]
    },
    {
      "cell_type": "code",
      "metadata": {
        "id": "6ZNxo6Mngzn2"
      },
      "source": [
        "a = test2(2,3)+14"
      ],
      "execution_count": 12,
      "outputs": []
    },
    {
      "cell_type": "code",
      "metadata": {
        "colab": {
          "base_uri": "https://localhost:8080/"
        },
        "id": "pEYrFpLUg24Q",
        "outputId": "e120cfdd-cc66-4846-e3a9-67f054ad8b92"
      },
      "source": [
        "type(a)"
      ],
      "execution_count": 13,
      "outputs": [
        {
          "output_type": "execute_result",
          "data": {
            "text/plain": [
              "int"
            ]
          },
          "metadata": {
            "tags": []
          },
          "execution_count": 13
        }
      ]
    },
    {
      "cell_type": "code",
      "metadata": {
        "id": "4zfqGs-3g-Vc"
      },
      "source": [
        "def test3(a,b):\n",
        "  return a*b, a+b, a-b;"
      ],
      "execution_count": 14,
      "outputs": []
    },
    {
      "cell_type": "code",
      "metadata": {
        "colab": {
          "base_uri": "https://localhost:8080/"
        },
        "id": "Ej9SiIGTg2OL",
        "outputId": "e31c82a8-0c5e-4932-d423-037dfec9a0fb"
      },
      "source": [
        "test3(6,4)"
      ],
      "execution_count": 15,
      "outputs": [
        {
          "output_type": "execute_result",
          "data": {
            "text/plain": [
              "(24, 10, 2)"
            ]
          },
          "metadata": {
            "tags": []
          },
          "execution_count": 15
        }
      ]
    },
    {
      "cell_type": "code",
      "metadata": {
        "id": "-8F7U4MDioL-"
      },
      "source": [
        "c = test3(6,4)"
      ],
      "execution_count": 16,
      "outputs": []
    },
    {
      "cell_type": "code",
      "metadata": {
        "colab": {
          "base_uri": "https://localhost:8080/"
        },
        "id": "FoDlo6oJirfI",
        "outputId": "aeecf2c3-ea6c-4000-98a8-4b022c4b94f5"
      },
      "source": [
        "c"
      ],
      "execution_count": 17,
      "outputs": [
        {
          "output_type": "execute_result",
          "data": {
            "text/plain": [
              "(24, 10, 2)"
            ]
          },
          "metadata": {
            "tags": []
          },
          "execution_count": 17
        }
      ]
    },
    {
      "cell_type": "code",
      "metadata": {
        "colab": {
          "base_uri": "https://localhost:8080/"
        },
        "id": "n5dnvALuir2E",
        "outputId": "dbda9ec8-86e4-4781-8b27-6b37418a38c3"
      },
      "source": [
        "c[0]"
      ],
      "execution_count": 18,
      "outputs": [
        {
          "output_type": "execute_result",
          "data": {
            "text/plain": [
              "24"
            ]
          },
          "metadata": {
            "tags": []
          },
          "execution_count": 18
        }
      ]
    },
    {
      "cell_type": "code",
      "metadata": {
        "colab": {
          "base_uri": "https://localhost:8080/"
        },
        "id": "PX7Isgamir7w",
        "outputId": "5a783247-3a2c-42e0-cb65-789d10017fd7"
      },
      "source": [
        "c[1]"
      ],
      "execution_count": 19,
      "outputs": [
        {
          "output_type": "execute_result",
          "data": {
            "text/plain": [
              "10"
            ]
          },
          "metadata": {
            "tags": []
          },
          "execution_count": 19
        }
      ]
    },
    {
      "cell_type": "code",
      "metadata": {
        "colab": {
          "base_uri": "https://localhost:8080/"
        },
        "id": "VmalXKC1isAL",
        "outputId": "9e5cc54e-d2fb-4c81-eba9-b5b2eff93a75"
      },
      "source": [
        "c[2]"
      ],
      "execution_count": 20,
      "outputs": [
        {
          "output_type": "execute_result",
          "data": {
            "text/plain": [
              "2"
            ]
          },
          "metadata": {
            "tags": []
          },
          "execution_count": 20
        }
      ]
    },
    {
      "cell_type": "code",
      "metadata": {
        "id": "RUfWwo-Sg1eE"
      },
      "source": [
        "#Feeding these tuples\n",
        "\n",
        "c, s, m = test3(2,5)"
      ],
      "execution_count": 21,
      "outputs": []
    },
    {
      "cell_type": "code",
      "metadata": {
        "colab": {
          "base_uri": "https://localhost:8080/"
        },
        "id": "jB7207LZhQlw",
        "outputId": "e492618f-31b7-4e18-badc-3ff194ac57b2"
      },
      "source": [
        "c"
      ],
      "execution_count": 22,
      "outputs": [
        {
          "output_type": "execute_result",
          "data": {
            "text/plain": [
              "10"
            ]
          },
          "metadata": {
            "tags": []
          },
          "execution_count": 22
        }
      ]
    },
    {
      "cell_type": "code",
      "metadata": {
        "colab": {
          "base_uri": "https://localhost:8080/"
        },
        "id": "U2gCxOEfhRlU",
        "outputId": "c40258f5-f348-4c05-e7b8-5f960630cf8f"
      },
      "source": [
        "s"
      ],
      "execution_count": 23,
      "outputs": [
        {
          "output_type": "execute_result",
          "data": {
            "text/plain": [
              "7"
            ]
          },
          "metadata": {
            "tags": []
          },
          "execution_count": 23
        }
      ]
    },
    {
      "cell_type": "code",
      "metadata": {
        "colab": {
          "base_uri": "https://localhost:8080/"
        },
        "id": "0prJMxfGhR89",
        "outputId": "08118ad6-8b40-48dc-90cb-09c136f03990"
      },
      "source": [
        "m"
      ],
      "execution_count": 24,
      "outputs": [
        {
          "output_type": "execute_result",
          "data": {
            "text/plain": [
              "-3"
            ]
          },
          "metadata": {
            "tags": []
          },
          "execution_count": 24
        }
      ]
    },
    {
      "cell_type": "code",
      "metadata": {
        "id": "YsPux6dYhSZ-"
      },
      "source": [
        "#Using Placeholder\n",
        "\n",
        "c, s, _ = test3(2,5)"
      ],
      "execution_count": 25,
      "outputs": []
    },
    {
      "cell_type": "code",
      "metadata": {
        "colab": {
          "base_uri": "https://localhost:8080/"
        },
        "id": "SZox0xeEhYUz",
        "outputId": "4e978102-71fd-4eb6-b8cf-a91068002c44"
      },
      "source": [
        "c"
      ],
      "execution_count": 26,
      "outputs": [
        {
          "output_type": "execute_result",
          "data": {
            "text/plain": [
              "10"
            ]
          },
          "metadata": {
            "tags": []
          },
          "execution_count": 26
        }
      ]
    },
    {
      "cell_type": "code",
      "metadata": {
        "colab": {
          "base_uri": "https://localhost:8080/"
        },
        "id": "MJdzZwklhZSr",
        "outputId": "899dad94-3693-47ff-d715-9c1eb9f90c9d"
      },
      "source": [
        "s"
      ],
      "execution_count": 27,
      "outputs": [
        {
          "output_type": "execute_result",
          "data": {
            "text/plain": [
              "7"
            ]
          },
          "metadata": {
            "tags": []
          },
          "execution_count": 27
        }
      ]
    },
    {
      "cell_type": "code",
      "metadata": {
        "colab": {
          "base_uri": "https://localhost:8080/"
        },
        "id": "TPVTSfu7hZz6",
        "outputId": "ee55cb0d-e842-4cc7-d9d9-707cdc307824"
      },
      "source": [
        "_"
      ],
      "execution_count": 28,
      "outputs": [
        {
          "output_type": "execute_result",
          "data": {
            "text/plain": [
              "7"
            ]
          },
          "metadata": {
            "tags": []
          },
          "execution_count": 28
        }
      ]
    },
    {
      "cell_type": "code",
      "metadata": {
        "id": "cA-r-MLvhapm"
      },
      "source": [
        "c, _, m = test3(2,5)"
      ],
      "execution_count": 29,
      "outputs": []
    },
    {
      "cell_type": "code",
      "metadata": {
        "colab": {
          "base_uri": "https://localhost:8080/"
        },
        "id": "BYAWp_FShklm",
        "outputId": "cdb864f3-08c3-4ba3-fe5d-8a40b3b71840"
      },
      "source": [
        "c"
      ],
      "execution_count": 30,
      "outputs": [
        {
          "output_type": "execute_result",
          "data": {
            "text/plain": [
              "10"
            ]
          },
          "metadata": {
            "tags": []
          },
          "execution_count": 30
        }
      ]
    },
    {
      "cell_type": "code",
      "metadata": {
        "colab": {
          "base_uri": "https://localhost:8080/"
        },
        "id": "VTm5KgFShlQW",
        "outputId": "d3adfdb4-d17a-4af3-cd76-12a12fd0e3be"
      },
      "source": [
        "_"
      ],
      "execution_count": 31,
      "outputs": [
        {
          "output_type": "execute_result",
          "data": {
            "text/plain": [
              "10"
            ]
          },
          "metadata": {
            "tags": []
          },
          "execution_count": 31
        }
      ]
    },
    {
      "cell_type": "code",
      "metadata": {
        "colab": {
          "base_uri": "https://localhost:8080/"
        },
        "id": "vNNHAviKhmrS",
        "outputId": "0ceb1b1d-72f3-4bdc-f19b-415a2d696043"
      },
      "source": [
        "m"
      ],
      "execution_count": 32,
      "outputs": [
        {
          "output_type": "execute_result",
          "data": {
            "text/plain": [
              "-3"
            ]
          },
          "metadata": {
            "tags": []
          },
          "execution_count": 32
        }
      ]
    },
    {
      "cell_type": "code",
      "metadata": {
        "id": "XQzQzCp6hnmO"
      },
      "source": [
        "def test4():\n",
        "  return \"This is my first class\""
      ],
      "execution_count": 33,
      "outputs": []
    },
    {
      "cell_type": "code",
      "metadata": {
        "id": "tH2-MS6ahw-5"
      },
      "source": [
        "n  = test4()"
      ],
      "execution_count": 34,
      "outputs": []
    },
    {
      "cell_type": "code",
      "metadata": {
        "colab": {
          "base_uri": "https://localhost:8080/",
          "height": 35
        },
        "id": "I39tuTqhh1oQ",
        "outputId": "b8588981-e8bc-4531-9db1-45bb436a40ed"
      },
      "source": [
        "n + \"kunal verma\""
      ],
      "execution_count": 35,
      "outputs": [
        {
          "output_type": "execute_result",
          "data": {
            "application/vnd.google.colaboratory.intrinsic+json": {
              "type": "string"
            },
            "text/plain": [
              "'This is my first classkunal verma'"
            ]
          },
          "metadata": {
            "tags": []
          },
          "execution_count": 35
        }
      ]
    },
    {
      "cell_type": "code",
      "metadata": {
        "id": "7ODCq--kh3WM"
      },
      "source": [
        "def test5(n):\n",
        "  return n*2;"
      ],
      "execution_count": 36,
      "outputs": []
    },
    {
      "cell_type": "code",
      "metadata": {
        "colab": {
          "base_uri": "https://localhost:8080/"
        },
        "id": "B3kxrmShiAgh",
        "outputId": "70a8a607-8b01-4277-b114-d6c2840ccb44"
      },
      "source": [
        "test5([2,3,4,5,6])"
      ],
      "execution_count": 37,
      "outputs": [
        {
          "output_type": "execute_result",
          "data": {
            "text/plain": [
              "[2, 3, 4, 5, 6, 2, 3, 4, 5, 6]"
            ]
          },
          "metadata": {
            "tags": []
          },
          "execution_count": 37
        }
      ]
    },
    {
      "cell_type": "code",
      "metadata": {
        "id": "S3OhC8PViC59"
      },
      "source": [
        "def test6(n):\n",
        "  return n, n*2;"
      ],
      "execution_count": 38,
      "outputs": []
    },
    {
      "cell_type": "code",
      "metadata": {
        "colab": {
          "base_uri": "https://localhost:8080/"
        },
        "id": "VcGRpxv2iaNW",
        "outputId": "ae798d76-59fc-4302-e95e-c0bcbc6cce2f"
      },
      "source": [
        "test6([3,4,5,6])"
      ],
      "execution_count": 39,
      "outputs": [
        {
          "output_type": "execute_result",
          "data": {
            "text/plain": [
              "([3, 4, 5, 6], [3, 4, 5, 6, 3, 4, 5, 6])"
            ]
          },
          "metadata": {
            "tags": []
          },
          "execution_count": 39
        }
      ]
    },
    {
      "cell_type": "code",
      "metadata": {
        "id": "HR_vTWRRidCW"
      },
      "source": [
        "b = test6([3,4,5,6])"
      ],
      "execution_count": 40,
      "outputs": []
    },
    {
      "cell_type": "code",
      "metadata": {
        "colab": {
          "base_uri": "https://localhost:8080/"
        },
        "id": "E7CETpxlihq0",
        "outputId": "fb4d069f-cc61-4361-c69b-45a5d89e3a87"
      },
      "source": [
        "b[0]"
      ],
      "execution_count": 41,
      "outputs": [
        {
          "output_type": "execute_result",
          "data": {
            "text/plain": [
              "[3, 4, 5, 6]"
            ]
          },
          "metadata": {
            "tags": []
          },
          "execution_count": 41
        }
      ]
    },
    {
      "cell_type": "code",
      "metadata": {
        "colab": {
          "base_uri": "https://localhost:8080/"
        },
        "id": "n2jdzaB4ikX5",
        "outputId": "dc4b31ab-e468-4684-afb0-a6d42d0abe80"
      },
      "source": [
        "b[1]"
      ],
      "execution_count": 42,
      "outputs": [
        {
          "output_type": "execute_result",
          "data": {
            "text/plain": [
              "[3, 4, 5, 6, 3, 4, 5, 6]"
            ]
          },
          "metadata": {
            "tags": []
          },
          "execution_count": 42
        }
      ]
    },
    {
      "cell_type": "code",
      "metadata": {
        "id": "iyWNztKOilRZ"
      },
      "source": [
        "def test7(n, m = 30):\n",
        "  return n+m"
      ],
      "execution_count": 43,
      "outputs": []
    },
    {
      "cell_type": "code",
      "metadata": {
        "colab": {
          "base_uri": "https://localhost:8080/"
        },
        "id": "NYXTHPwpjk0A",
        "outputId": "d9535543-3b4c-4c8e-d601-8b4c092d6e34"
      },
      "source": [
        "test7(50)"
      ],
      "execution_count": 44,
      "outputs": [
        {
          "output_type": "execute_result",
          "data": {
            "text/plain": [
              "80"
            ]
          },
          "metadata": {
            "tags": []
          },
          "execution_count": 44
        }
      ]
    },
    {
      "cell_type": "code",
      "metadata": {
        "colab": {
          "base_uri": "https://localhost:8080/"
        },
        "id": "_5ARau2wjrhk",
        "outputId": "38cc7037-f635-4f9f-f495-ee17c637e9d5"
      },
      "source": [
        "#Overwriting the default value\n",
        "\n",
        "test7(40, 50)"
      ],
      "execution_count": 45,
      "outputs": [
        {
          "output_type": "execute_result",
          "data": {
            "text/plain": [
              "90"
            ]
          },
          "metadata": {
            "tags": []
          },
          "execution_count": 45
        }
      ]
    },
    {
      "cell_type": "code",
      "metadata": {
        "id": "xOkIX6hJkDgN"
      },
      "source": [
        "def boolx(x = True, y = False):\n",
        "  return x+y"
      ],
      "execution_count": 46,
      "outputs": []
    },
    {
      "cell_type": "code",
      "metadata": {
        "colab": {
          "base_uri": "https://localhost:8080/"
        },
        "id": "b-Pq18J1kitH",
        "outputId": "0e21561a-554e-47bc-e72e-22f77007c3c9"
      },
      "source": [
        "boolx()"
      ],
      "execution_count": 47,
      "outputs": [
        {
          "output_type": "execute_result",
          "data": {
            "text/plain": [
              "1"
            ]
          },
          "metadata": {
            "tags": []
          },
          "execution_count": 47
        }
      ]
    },
    {
      "cell_type": "code",
      "metadata": {
        "colab": {
          "base_uri": "https://localhost:8080/"
        },
        "id": "gCicO1OokkId",
        "outputId": "9c41d946-aa92-4b3c-fad5-da0cdccbdf84"
      },
      "source": [
        "boolx(False)"
      ],
      "execution_count": 48,
      "outputs": [
        {
          "output_type": "execute_result",
          "data": {
            "text/plain": [
              "0"
            ]
          },
          "metadata": {
            "tags": []
          },
          "execution_count": 48
        }
      ]
    },
    {
      "cell_type": "code",
      "metadata": {
        "id": "NjARSAOyknf7"
      },
      "source": [
        "#if we do not have the idea about the number of arguments\n",
        "def test9(*args):\n",
        "  return args"
      ],
      "execution_count": 49,
      "outputs": []
    },
    {
      "cell_type": "code",
      "metadata": {
        "colab": {
          "base_uri": "https://localhost:8080/"
        },
        "id": "PENGF7v7nuni",
        "outputId": "245700e4-f7f1-457d-c109-d2db6273b8b1"
      },
      "source": [
        "test9('kunal', 'verma', 1,2,3,4, [1,2,3,4])"
      ],
      "execution_count": 50,
      "outputs": [
        {
          "output_type": "execute_result",
          "data": {
            "text/plain": [
              "('kunal', 'verma', 1, 2, 3, 4, [1, 2, 3, 4])"
            ]
          },
          "metadata": {
            "tags": []
          },
          "execution_count": 50
        }
      ]
    },
    {
      "cell_type": "code",
      "metadata": {
        "id": "fylCGhbYowbR"
      },
      "source": [
        "def test10(*args):\n",
        "  z = []\n",
        "  c = list(args)\n",
        "  for i in c:\n",
        "    z = z+i\n",
        "  return z"
      ],
      "execution_count": 51,
      "outputs": []
    },
    {
      "cell_type": "code",
      "metadata": {
        "colab": {
          "base_uri": "https://localhost:8080/"
        },
        "id": "72Z6XyXTrKuE",
        "outputId": "371784eb-758a-4d6e-ff4b-17625bfe6bff"
      },
      "source": [
        "test10([1,2,3,4], [2,3,4,5,6], [1,23,3])"
      ],
      "execution_count": 52,
      "outputs": [
        {
          "output_type": "execute_result",
          "data": {
            "text/plain": [
              "[1, 2, 3, 4, 2, 3, 4, 5, 6, 1, 23, 3]"
            ]
          },
          "metadata": {
            "tags": []
          },
          "execution_count": 52
        }
      ]
    },
    {
      "cell_type": "code",
      "metadata": {
        "id": "2IdxQ0zsrSbp"
      },
      "source": [
        "def test11(*args):\n",
        "  l = []\n",
        "  for i in args:\n",
        "    l = l+i\n",
        "  return l"
      ],
      "execution_count": 53,
      "outputs": []
    },
    {
      "cell_type": "code",
      "metadata": {
        "colab": {
          "base_uri": "https://localhost:8080/"
        },
        "id": "cpH4I9eYuqqQ",
        "outputId": "c5622922-c842-4512-d918-bd4545fb0089"
      },
      "source": [
        "test11([1,2,3,4], [2,3,4,5,6], [1,23,3])"
      ],
      "execution_count": 54,
      "outputs": [
        {
          "output_type": "execute_result",
          "data": {
            "text/plain": [
              "[1, 2, 3, 4, 2, 3, 4, 5, 6, 1, 23, 3]"
            ]
          },
          "metadata": {
            "tags": []
          },
          "execution_count": 54
        }
      ]
    },
    {
      "cell_type": "code",
      "metadata": {
        "id": "ExXnr8lzutaT"
      },
      "source": [
        "def test12(**kwargs):#accept the argument in key value pair format\n",
        "  return kwargs"
      ],
      "execution_count": 55,
      "outputs": []
    },
    {
      "cell_type": "code",
      "metadata": {
        "colab": {
          "base_uri": "https://localhost:8080/",
          "height": 163
        },
        "id": "TJbzJ_mYDC5y",
        "outputId": "564a1c7f-29ed-4481-c1b0-ed3b2c9cd511"
      },
      "source": [
        "test12(2,3,4)"
      ],
      "execution_count": 56,
      "outputs": [
        {
          "output_type": "error",
          "ename": "TypeError",
          "evalue": "ignored",
          "traceback": [
            "\u001b[0;31m---------------------------------------------------------------------------\u001b[0m",
            "\u001b[0;31mTypeError\u001b[0m                                 Traceback (most recent call last)",
            "\u001b[0;32m<ipython-input-56-e992ae50dd4f>\u001b[0m in \u001b[0;36m<module>\u001b[0;34m()\u001b[0m\n\u001b[0;32m----> 1\u001b[0;31m \u001b[0mtest12\u001b[0m\u001b[0;34m(\u001b[0m\u001b[0;36m2\u001b[0m\u001b[0;34m,\u001b[0m\u001b[0;36m3\u001b[0m\u001b[0;34m,\u001b[0m\u001b[0;36m4\u001b[0m\u001b[0;34m)\u001b[0m\u001b[0;34m\u001b[0m\u001b[0;34m\u001b[0m\u001b[0m\n\u001b[0m",
            "\u001b[0;31mTypeError\u001b[0m: test12() takes 0 positional arguments but 3 were given"
          ]
        }
      ]
    },
    {
      "cell_type": "code",
      "metadata": {
        "id": "xMdIZhYDDLKn"
      },
      "source": [
        "test12(a = 8, b =12, c = 23, d = 34)"
      ],
      "execution_count": null,
      "outputs": []
    },
    {
      "cell_type": "code",
      "metadata": {
        "colab": {
          "base_uri": "https://localhost:8080/"
        },
        "id": "HgRJnNqRDcYb",
        "outputId": "4a6527b9-99fd-4e41-dd11-5906ade4ca65"
      },
      "source": [
        "test12(a = 8, b = [\"kunal\", 1,2,3], c = \"verma\")"
      ],
      "execution_count": 57,
      "outputs": [
        {
          "output_type": "execute_result",
          "data": {
            "text/plain": [
              "{'a': 8, 'b': ['kunal', 1, 2, 3], 'c': 'verma'}"
            ]
          },
          "metadata": {
            "tags": []
          },
          "execution_count": 57
        }
      ]
    },
    {
      "cell_type": "code",
      "metadata": {
        "id": "6OJ5MKSmD4cD"
      },
      "source": [
        "#Create a function number of mixed data and try to create a list of separate data based on data type and \n",
        "#return multiple result\n",
        "def test13(*args):\n",
        "  a = []\n",
        "  b = []\n",
        "  c = []\n",
        "  d = []\n",
        "  e = []\n",
        "  f = []\n",
        "  g = []\n",
        "  h = []\n",
        "  for i in args:\n",
        "    if type(i) == int:\n",
        "      a.append(i)\n",
        "    if type(i) == float:\n",
        "      b.append(i)\n",
        "    if type(i) == str:\n",
        "      c.append(i)\n",
        "    if type(i) == list:\n",
        "      d.append(i)\n",
        "    if type(i) == tuple:\n",
        "      e.append(i)\n",
        "    if type(i) == bool:\n",
        "      g.append(i)\n",
        "    if type(i) == dict:\n",
        "      h.append(i)\n",
        "  return a,b,c,d,e,f,g,h\n"
      ],
      "execution_count": 58,
      "outputs": []
    },
    {
      "cell_type": "code",
      "metadata": {
        "id": "yku4zR0Wh5x0"
      },
      "source": [
        "def func1(*args):\n",
        "  dt = {}\n",
        "  for i in args:\n",
        "    if type(i) in dt:\n",
        "      dt[type(i)].append(i)\n",
        "    else:\n",
        "      dt[type(i)] = [i]\n",
        "  return dt"
      ],
      "execution_count": 127,
      "outputs": []
    },
    {
      "cell_type": "code",
      "metadata": {
        "colab": {
          "base_uri": "https://localhost:8080/"
        },
        "id": "emzhar_Sif85",
        "outputId": "774750ee-b607-4d16-81a5-8352daa52cf3"
      },
      "source": [
        "func1(1,2,3,4,5.0,\"kunal\", True, \"sudh\", 1.2233, [1,2,3,45,5], {'1':[1,2,3],'2':[3,4,5]}, (1,2))"
      ],
      "execution_count": 126,
      "outputs": [
        {
          "output_type": "execute_result",
          "data": {
            "text/plain": [
              "{bool: [True],\n",
              " dict: [{'1': [1, 2, 3], '2': [3, 4, 5]}],\n",
              " float: [5.0, 1.2233],\n",
              " int: [1, 2, 3, 4],\n",
              " list: [[1, 2, 3, 45, 5]],\n",
              " str: ['kunal', 'sudh'],\n",
              " tuple: [(1, 2)]}"
            ]
          },
          "metadata": {
            "tags": []
          },
          "execution_count": 126
        }
      ]
    },
    {
      "cell_type": "code",
      "metadata": {
        "colab": {
          "base_uri": "https://localhost:8080/"
        },
        "id": "eFju5IZyG4s7",
        "outputId": "dc534c35-f27f-4994-b30f-f3534deaaf58"
      },
      "source": [
        "test13(1,2,3,4,5.0,\"kunal\", True, \"sudh\", 1.2233, [1,2,3,45,5], {'1':[1,2,3],'2':[3,4,5]}, (1,2))"
      ],
      "execution_count": 59,
      "outputs": [
        {
          "output_type": "execute_result",
          "data": {
            "text/plain": [
              "([1, 2, 3, 4],\n",
              " [5.0, 1.2233],\n",
              " ['kunal', 'sudh'],\n",
              " [[1, 2, 3, 45, 5]],\n",
              " [(1, 2)],\n",
              " [],\n",
              " [True],\n",
              " [{'1': [1, 2, 3], '2': [3, 4, 5]}])"
            ]
          },
          "metadata": {
            "tags": []
          },
          "execution_count": 59
        }
      ]
    },
    {
      "cell_type": "code",
      "metadata": {
        "id": "QEquIt1VHZ9Z"
      },
      "source": [
        "\n",
        "\n",
        "\n",
        "\n",
        "\n",
        "\n",
        "def func2(*args, **kwargs):\n",
        "  l = [i for i in args if type(i) == list]\n",
        "  d = [i[1] for i in kwargs if type(i[1]) == list]\n",
        "  return l,d"
      ],
      "execution_count": 60,
      "outputs": []
    },
    {
      "cell_type": "code",
      "metadata": {
        "id": "l831YeYTXXzz"
      },
      "source": [
        ""
      ],
      "execution_count": null,
      "outputs": []
    },
    {
      "cell_type": "code",
      "metadata": {
        "colab": {
          "base_uri": "https://localhost:8080/"
        },
        "id": "ufKttzBtJg4E",
        "outputId": "51231cd8-95eb-47c1-c42c-a9d50b72f28d"
      },
      "source": [
        "func2(1,2,3,4,5.0,\"kunal\", True, \"sudh\", 1.2233, [1,2,3,45,5], {'1':[1,2,3],'2':[3,4,5]})"
      ],
      "execution_count": 61,
      "outputs": [
        {
          "output_type": "execute_result",
          "data": {
            "text/plain": [
              "([[1, 2, 3, 45, 5]], [])"
            ]
          },
          "metadata": {
            "tags": []
          },
          "execution_count": 61
        }
      ]
    },
    {
      "cell_type": "code",
      "metadata": {
        "id": "QeE7ua4KJs64"
      },
      "source": [
        "def test14(**kwargs):\n",
        "  l = []\n",
        "  m = []\n",
        "  for i in kwargs.items():\n",
        "    if type(i[1]) == list:\n",
        "      l.append(i[1])\n",
        "  for j in l:\n",
        "    for k in j:\n",
        "      if type(k) == str:\n",
        "        m.append(k)\n",
        "  return m\n"
      ],
      "execution_count": 113,
      "outputs": []
    },
    {
      "cell_type": "code",
      "metadata": {
        "colab": {
          "base_uri": "https://localhost:8080/"
        },
        "id": "gu_WNybMU_a9",
        "outputId": "55a809b7-8be3-467f-dad6-b2e49b274bae"
      },
      "source": [
        "test14(a = 8, b = 12, c = [4,5,6,7], d = ['kunal', 'verma', 4, 8])"
      ],
      "execution_count": 114,
      "outputs": [
        {
          "output_type": "execute_result",
          "data": {
            "text/plain": [
              "['kunal', 'verma']"
            ]
          },
          "metadata": {
            "tags": []
          },
          "execution_count": 114
        }
      ]
    },
    {
      "cell_type": "code",
      "metadata": {
        "id": "448aClUkVFZG"
      },
      "source": [
        "def test16(**kwargs):\n",
        "  for i in kwargs.items():\n",
        "    if type(i[1]) == list:\n",
        "      if \"kunal\" in i[1]:\n",
        "        print(\"Name found\")\n",
        "  return kwargs"
      ],
      "execution_count": 115,
      "outputs": []
    },
    {
      "cell_type": "code",
      "metadata": {
        "colab": {
          "base_uri": "https://localhost:8080/"
        },
        "id": "1Wd7C7MzcsU2",
        "outputId": "d7ab4d36-bcca-4600-b210-6462c192f7bd"
      },
      "source": [
        "\n",
        "test16(a = 8, b = 12, c = [4,5,6,7], d = ['kunal', 'verma', 4, 8])"
      ],
      "execution_count": 116,
      "outputs": [
        {
          "output_type": "stream",
          "text": [
            "Name found\n"
          ],
          "name": "stdout"
        },
        {
          "output_type": "execute_result",
          "data": {
            "text/plain": [
              "{'a': 8, 'b': 12, 'c': [4, 5, 6, 7], 'd': ['kunal', 'verma', 4, 8]}"
            ]
          },
          "metadata": {
            "tags": []
          },
          "execution_count": 116
        }
      ]
    },
    {
      "cell_type": "markdown",
      "metadata": {
        "id": "EjeuOMXemk38"
      },
      "source": [
        "#Lambda Function"
      ]
    },
    {
      "cell_type": "code",
      "metadata": {
        "id": "vR9uAgZKmmu9"
      },
      "source": [
        "def test(name, mail_id):\n",
        "  con = \"My name is \"+ name+ \" and my mail is \"+ mail_id\n",
        "  return con\n"
      ],
      "execution_count": 134,
      "outputs": []
    },
    {
      "cell_type": "code",
      "metadata": {
        "colab": {
          "base_uri": "https://localhost:8080/",
          "height": 35
        },
        "id": "-Qju71NunDQk",
        "outputId": "12563a19-eeab-4f8c-e0c3-4928a8c456b9"
      },
      "source": [
        "test(\"kunal\", 'vermakunal')"
      ],
      "execution_count": 135,
      "outputs": [
        {
          "output_type": "execute_result",
          "data": {
            "application/vnd.google.colaboratory.intrinsic+json": {
              "type": "string"
            },
            "text/plain": [
              "'My name is kunal and my mail is vermakunal'"
            ]
          },
          "metadata": {
            "tags": []
          },
          "execution_count": 135
        }
      ]
    },
    {
      "cell_type": "code",
      "metadata": {
        "id": "y5yyrSh-nHtA"
      },
      "source": [
        "m = lambda x, y: x+y"
      ],
      "execution_count": 137,
      "outputs": []
    },
    {
      "cell_type": "code",
      "metadata": {
        "colab": {
          "base_uri": "https://localhost:8080/"
        },
        "id": "6gDTEsM7nmDt",
        "outputId": "41ecf588-4070-48be-e562-21aa142c3401"
      },
      "source": [
        "m(2,3)"
      ],
      "execution_count": 138,
      "outputs": [
        {
          "output_type": "execute_result",
          "data": {
            "text/plain": [
              "5"
            ]
          },
          "metadata": {
            "tags": []
          },
          "execution_count": 138
        }
      ]
    },
    {
      "cell_type": "code",
      "metadata": {
        "colab": {
          "base_uri": "https://localhost:8080/",
          "height": 35
        },
        "id": "lCrxTiihn1Qh",
        "outputId": "b8713de3-149a-487c-f9df-0670f81d96d7"
      },
      "source": [
        "m(\"kunal\",\"vermakunal\")"
      ],
      "execution_count": 139,
      "outputs": [
        {
          "output_type": "execute_result",
          "data": {
            "application/vnd.google.colaboratory.intrinsic+json": {
              "type": "string"
            },
            "text/plain": [
              "'kunalvermakunal'"
            ]
          },
          "metadata": {
            "tags": []
          },
          "execution_count": 139
        }
      ]
    },
    {
      "cell_type": "code",
      "metadata": {
        "id": "2xiPPJSNoIOG"
      },
      "source": [
        "a = 10"
      ],
      "execution_count": 140,
      "outputs": []
    },
    {
      "cell_type": "code",
      "metadata": {
        "colab": {
          "base_uri": "https://localhost:8080/",
          "height": 180
        },
        "id": "aaPVPGZdonb4",
        "outputId": "278f3c6c-494c-4a36-eb16-d92739758259"
      },
      "source": [
        "for i in a:\n",
        "  print(i)"
      ],
      "execution_count": 141,
      "outputs": [
        {
          "output_type": "error",
          "ename": "TypeError",
          "evalue": "ignored",
          "traceback": [
            "\u001b[0;31m---------------------------------------------------------------------------\u001b[0m",
            "\u001b[0;31mTypeError\u001b[0m                                 Traceback (most recent call last)",
            "\u001b[0;32m<ipython-input-141-39c7201d5228>\u001b[0m in \u001b[0;36m<module>\u001b[0;34m()\u001b[0m\n\u001b[0;32m----> 1\u001b[0;31m \u001b[0;32mfor\u001b[0m \u001b[0mi\u001b[0m \u001b[0;32min\u001b[0m \u001b[0ma\u001b[0m\u001b[0;34m:\u001b[0m\u001b[0;34m\u001b[0m\u001b[0;34m\u001b[0m\u001b[0m\n\u001b[0m\u001b[1;32m      2\u001b[0m   \u001b[0mprint\u001b[0m\u001b[0;34m(\u001b[0m\u001b[0mi\u001b[0m\u001b[0;34m)\u001b[0m\u001b[0;34m\u001b[0m\u001b[0;34m\u001b[0m\u001b[0m\n",
            "\u001b[0;31mTypeError\u001b[0m: 'int' object is not iterable"
          ]
        }
      ]
    },
    {
      "cell_type": "code",
      "metadata": {
        "colab": {
          "base_uri": "https://localhost:8080/",
          "height": 197
        },
        "id": "kEvlkcn2oqZs",
        "outputId": "cd7fa0a7-810d-434a-e15a-98eef9c8a7dd"
      },
      "source": [
        "a = \"kunal\"\n",
        "\n",
        "next(a)"
      ],
      "execution_count": 147,
      "outputs": [
        {
          "output_type": "error",
          "ename": "TypeError",
          "evalue": "ignored",
          "traceback": [
            "\u001b[0;31m---------------------------------------------------------------------------\u001b[0m",
            "\u001b[0;31mTypeError\u001b[0m                                 Traceback (most recent call last)",
            "\u001b[0;32m<ipython-input-147-ab553f137b61>\u001b[0m in \u001b[0;36m<module>\u001b[0;34m()\u001b[0m\n\u001b[1;32m      1\u001b[0m \u001b[0ma\u001b[0m \u001b[0;34m=\u001b[0m \u001b[0;34m\"kunal\"\u001b[0m\u001b[0;34m\u001b[0m\u001b[0;34m\u001b[0m\u001b[0m\n\u001b[1;32m      2\u001b[0m \u001b[0;34m\u001b[0m\u001b[0m\n\u001b[0;32m----> 3\u001b[0;31m \u001b[0mnext\u001b[0m\u001b[0;34m(\u001b[0m\u001b[0ma\u001b[0m\u001b[0;34m)\u001b[0m\u001b[0;34m\u001b[0m\u001b[0;34m\u001b[0m\u001b[0m\n\u001b[0m",
            "\u001b[0;31mTypeError\u001b[0m: 'str' object is not an iterator"
          ]
        }
      ]
    },
    {
      "cell_type": "code",
      "metadata": {
        "id": "5_p92OdWpIjT"
      },
      "source": [
        "#Int in not iterable but str is iterable that is why iterable object can be converted to iterator\n",
        "\n",
        "s = \"kunal\"\n",
        "\n",
        "s = iter(s)\n",
        "\n"
      ],
      "execution_count": 155,
      "outputs": []
    },
    {
      "cell_type": "code",
      "metadata": {
        "colab": {
          "base_uri": "https://localhost:8080/",
          "height": 35
        },
        "id": "JyHvqe6tsG2L",
        "outputId": "229e8d7a-1920-4614-ded1-48234582438d"
      },
      "source": [
        "next(s)"
      ],
      "execution_count": 156,
      "outputs": [
        {
          "output_type": "execute_result",
          "data": {
            "application/vnd.google.colaboratory.intrinsic+json": {
              "type": "string"
            },
            "text/plain": [
              "'k'"
            ]
          },
          "metadata": {
            "tags": []
          },
          "execution_count": 156
        }
      ]
    },
    {
      "cell_type": "code",
      "metadata": {
        "colab": {
          "base_uri": "https://localhost:8080/",
          "height": 35
        },
        "id": "FIXjyQkGsICO",
        "outputId": "483b45e0-4179-4113-92c5-9d55e41a63c7"
      },
      "source": [
        "next(s)"
      ],
      "execution_count": 157,
      "outputs": [
        {
          "output_type": "execute_result",
          "data": {
            "application/vnd.google.colaboratory.intrinsic+json": {
              "type": "string"
            },
            "text/plain": [
              "'u'"
            ]
          },
          "metadata": {
            "tags": []
          },
          "execution_count": 157
        }
      ]
    },
    {
      "cell_type": "code",
      "metadata": {
        "colab": {
          "base_uri": "https://localhost:8080/",
          "height": 35
        },
        "id": "GHmBAVGdsKTR",
        "outputId": "b030356f-e41a-4884-a667-74c87b876947"
      },
      "source": [
        "next(s)"
      ],
      "execution_count": 158,
      "outputs": [
        {
          "output_type": "execute_result",
          "data": {
            "application/vnd.google.colaboratory.intrinsic+json": {
              "type": "string"
            },
            "text/plain": [
              "'n'"
            ]
          },
          "metadata": {
            "tags": []
          },
          "execution_count": 158
        }
      ]
    },
    {
      "cell_type": "code",
      "metadata": {
        "colab": {
          "base_uri": "https://localhost:8080/",
          "height": 35
        },
        "id": "5zEOB_sisMPM",
        "outputId": "21164be6-37c2-4dad-98fd-f042c23b65f2"
      },
      "source": [
        "next(s)"
      ],
      "execution_count": 159,
      "outputs": [
        {
          "output_type": "execute_result",
          "data": {
            "application/vnd.google.colaboratory.intrinsic+json": {
              "type": "string"
            },
            "text/plain": [
              "'a'"
            ]
          },
          "metadata": {
            "tags": []
          },
          "execution_count": 159
        }
      ]
    },
    {
      "cell_type": "code",
      "metadata": {
        "colab": {
          "base_uri": "https://localhost:8080/",
          "height": 35
        },
        "id": "D6k5MkiwsjAO",
        "outputId": "0237ed15-0be1-4b58-a113-543c4aa90ca5"
      },
      "source": [
        "next(s)"
      ],
      "execution_count": 160,
      "outputs": [
        {
          "output_type": "execute_result",
          "data": {
            "application/vnd.google.colaboratory.intrinsic+json": {
              "type": "string"
            },
            "text/plain": [
              "'l'"
            ]
          },
          "metadata": {
            "tags": []
          },
          "execution_count": 160
        }
      ]
    },
    {
      "cell_type": "code",
      "metadata": {
        "colab": {
          "base_uri": "https://localhost:8080/",
          "height": 197
        },
        "id": "hSYSG6Dxslo0",
        "outputId": "cc5b788b-6274-45ca-d8d5-553f6b848e11"
      },
      "source": [
        "b = 10\n",
        "\n",
        "b = iter(b)"
      ],
      "execution_count": 162,
      "outputs": [
        {
          "output_type": "error",
          "ename": "TypeError",
          "evalue": "ignored",
          "traceback": [
            "\u001b[0;31m---------------------------------------------------------------------------\u001b[0m",
            "\u001b[0;31mTypeError\u001b[0m                                 Traceback (most recent call last)",
            "\u001b[0;32m<ipython-input-162-d2900c9b7d7e>\u001b[0m in \u001b[0;36m<module>\u001b[0;34m()\u001b[0m\n\u001b[1;32m      1\u001b[0m \u001b[0mb\u001b[0m \u001b[0;34m=\u001b[0m \u001b[0;36m10\u001b[0m\u001b[0;34m\u001b[0m\u001b[0;34m\u001b[0m\u001b[0m\n\u001b[1;32m      2\u001b[0m \u001b[0;34m\u001b[0m\u001b[0m\n\u001b[0;32m----> 3\u001b[0;31m \u001b[0mb\u001b[0m \u001b[0;34m=\u001b[0m \u001b[0miter\u001b[0m\u001b[0;34m(\u001b[0m\u001b[0mb\u001b[0m\u001b[0;34m)\u001b[0m\u001b[0;34m\u001b[0m\u001b[0;34m\u001b[0m\u001b[0m\n\u001b[0m",
            "\u001b[0;31mTypeError\u001b[0m: 'int' object is not iterable"
          ]
        }
      ]
    },
    {
      "cell_type": "code",
      "metadata": {
        "colab": {
          "base_uri": "https://localhost:8080/",
          "height": 163
        },
        "id": "H42-3hiOsv69",
        "outputId": "259068da-94a3-4bf0-f641-6e3828c687e2"
      },
      "source": [
        "next(b)"
      ],
      "execution_count": 163,
      "outputs": [
        {
          "output_type": "error",
          "ename": "TypeError",
          "evalue": "ignored",
          "traceback": [
            "\u001b[0;31m---------------------------------------------------------------------------\u001b[0m",
            "\u001b[0;31mTypeError\u001b[0m                                 Traceback (most recent call last)",
            "\u001b[0;32m<ipython-input-163-adb3e17b0219>\u001b[0m in \u001b[0;36m<module>\u001b[0;34m()\u001b[0m\n\u001b[0;32m----> 1\u001b[0;31m \u001b[0mnext\u001b[0m\u001b[0;34m(\u001b[0m\u001b[0mb\u001b[0m\u001b[0;34m)\u001b[0m\u001b[0;34m\u001b[0m\u001b[0;34m\u001b[0m\u001b[0m\n\u001b[0m",
            "\u001b[0;31mTypeError\u001b[0m: 'int' object is not an iterator"
          ]
        }
      ]
    },
    {
      "cell_type": "code",
      "metadata": {
        "id": "2k3o-_Aos4Wm"
      },
      "source": [
        ""
      ],
      "execution_count": null,
      "outputs": []
    }
  ]
}