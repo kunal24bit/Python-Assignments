{
  "nbformat": 4,
  "nbformat_minor": 0,
  "metadata": {
    "colab": {
      "name": "Assignment_1.ipynb",
      "provenance": [],
      "authorship_tag": "ABX9TyOLic9XGJ7IOy50xegeSkd1",
      "include_colab_link": true
    },
    "kernelspec": {
      "name": "python3",
      "display_name": "Python 3"
    },
    "language_info": {
      "name": "python"
    }
  },
  "cells": [
    {
      "cell_type": "markdown",
      "metadata": {
        "id": "view-in-github",
        "colab_type": "text"
      },
      "source": [
        "<a href=\"https://colab.research.google.com/github/kunal24bit/Python-Assignments/blob/main/Assignment_1.ipynb\" target=\"_parent\"><img src=\"https://colab.research.google.com/assets/colab-badge.svg\" alt=\"Open In Colab\"/></a>"
      ]
    },
    {
      "cell_type": "markdown",
      "metadata": {
        "id": "Cm5PMHsYfPsK"
      },
      "source": [
        "Write a Python program to print &quot;Hello Python&quot;?"
      ]
    },
    {
      "cell_type": "code",
      "metadata": {
        "colab": {
          "base_uri": "https://localhost:8080/"
        },
        "id": "_QEzFWkwfYU2",
        "outputId": "02cdb159-5773-4974-838e-ec0ee86a1c6f"
      },
      "source": [
        "print(\"Hello Python\")"
      ],
      "execution_count": 2,
      "outputs": [
        {
          "output_type": "stream",
          "text": [
            "Hello Python\n"
          ],
          "name": "stdout"
        }
      ]
    },
    {
      "cell_type": "markdown",
      "metadata": {
        "id": "__Qo16EPfing"
      },
      "source": [
        "Write a Python program to do arithmetical operations addition and division.?"
      ]
    },
    {
      "cell_type": "code",
      "metadata": {
        "colab": {
          "base_uri": "https://localhost:8080/"
        },
        "id": "cqixgp3wfctN",
        "outputId": "1b350f8a-b7d1-47f5-d051-1e099ebb1281"
      },
      "source": [
        "def arithmetic(a,b):\n",
        "  print(\"The addition of {} and {} is {}\".format(a, b,(a+b)))\n",
        "  print(\"The division of {} and {} is {}\".format(a, b,(a/b)))\n",
        "  print(\"The subtraction of {} and {} is {}\".format(a, b,(a-b)))\n",
        "  print(\"The multiplication of {} and {} is {}\".format(a, b,(a*b)))\n",
        "\n",
        "\n",
        "arithmetic(2,3)"
      ],
      "execution_count": 7,
      "outputs": [
        {
          "output_type": "stream",
          "text": [
            "The addition of 2 and 3 is 5\n",
            "The division of 2 and 3 is 0.6666666666666666\n",
            "The subtraction of 2 and 3 is -1\n",
            "The multiplication of 2 and 3 is 6\n"
          ],
          "name": "stdout"
        }
      ]
    },
    {
      "cell_type": "markdown",
      "metadata": {
        "id": "nAvcxdpUgrwY"
      },
      "source": [
        "Write a Python program to find the area of a triangle?"
      ]
    },
    {
      "cell_type": "code",
      "metadata": {
        "id": "eU_srRtigJMz"
      },
      "source": [
        "import math\n",
        "def area_of_triangle(a, b, c):\n",
        "  s = (a+b+c)/2\n",
        "  return math.sqrt(s*(s-a)*(s-b)*(s-c))"
      ],
      "execution_count": 8,
      "outputs": []
    },
    {
      "cell_type": "code",
      "metadata": {
        "colab": {
          "base_uri": "https://localhost:8080/"
        },
        "id": "XiPFQx-7hXjc",
        "outputId": "858c72b7-1658-4472-ba87-45bfb984d211"
      },
      "source": [
        "print(area_of_triangle(2,2,2))\n",
        "print(area_of_triangle(2,2,3))"
      ],
      "execution_count": 11,
      "outputs": [
        {
          "output_type": "stream",
          "text": [
            "1.7320508075688772\n",
            "1.984313483298443\n"
          ],
          "name": "stdout"
        }
      ]
    },
    {
      "cell_type": "markdown",
      "metadata": {
        "id": "QQIC_c-MiSWY"
      },
      "source": [
        "Write a Python program to swap two variables?"
      ]
    },
    {
      "cell_type": "code",
      "metadata": {
        "id": "XBYuBpQxhdaD"
      },
      "source": [
        "def swap(a,b):\n",
        "  print(\"Before swapping a = {} and b = {}\".format(a,b))\n",
        "  c = a\n",
        "  a = b\n",
        "  b = c\n",
        "  print(\"After swapping a = {} and b = {}\".format(a,b))"
      ],
      "execution_count": 16,
      "outputs": []
    },
    {
      "cell_type": "code",
      "metadata": {
        "colab": {
          "base_uri": "https://localhost:8080/"
        },
        "id": "k_3yN3MSi2vk",
        "outputId": "269fc765-3db5-463f-b9df-d5cd3bf07a6a"
      },
      "source": [
        "swap(2,3)"
      ],
      "execution_count": 17,
      "outputs": [
        {
          "output_type": "stream",
          "text": [
            "Before swapping a = 2 and b = 3\n",
            "After swapping a = 3 and b = 2\n"
          ],
          "name": "stdout"
        }
      ]
    },
    {
      "cell_type": "markdown",
      "metadata": {
        "id": "zn3pdKZNkLaB"
      },
      "source": [
        "Write a Python program to generate a random number?"
      ]
    },
    {
      "cell_type": "code",
      "metadata": {
        "colab": {
          "base_uri": "https://localhost:8080/"
        },
        "id": "Lqs39958i4hy",
        "outputId": "d8e739fc-66d5-49ac-e744-243e81617777"
      },
      "source": [
        "import random\n",
        "\n",
        "print(random.random())"
      ],
      "execution_count": 22,
      "outputs": [
        {
          "output_type": "execute_result",
          "data": {
            "text/plain": [
              "0.6810540926781286"
            ]
          },
          "metadata": {
            "tags": []
          },
          "execution_count": 22
        }
      ]
    },
    {
      "cell_type": "code",
      "metadata": {
        "id": "4dEVwMP-nTHM"
      },
      "source": [
        ""
      ],
      "execution_count": null,
      "outputs": []
    }
  ]
}