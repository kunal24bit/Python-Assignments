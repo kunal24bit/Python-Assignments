{
  "nbformat": 4,
  "nbformat_minor": 0,
  "metadata": {
    "colab": {
      "name": "Q/A Assignment 1 .ipynb",
      "provenance": [],
      "authorship_tag": "ABX9TyM/LAwRPxIl7t1DnSHEtJJh",
      "include_colab_link": true
    },
    "kernelspec": {
      "name": "python3",
      "display_name": "Python 3"
    },
    "language_info": {
      "name": "python"
    }
  },
  "cells": [
    {
      "cell_type": "markdown",
      "metadata": {
        "id": "view-in-github",
        "colab_type": "text"
      },
      "source": [
        "<a href=\"https://colab.research.google.com/github/kunal24bit/Python-Assignments/blob/main/Q_A_Assignment_1_.ipynb\" target=\"_parent\"><img src=\"https://colab.research.google.com/assets/colab-badge.svg\" alt=\"Open In Colab\"/></a>"
      ]
    },
    {
      "cell_type": "markdown",
      "metadata": {
        "id": "e2g9Folhm56K"
      },
      "source": [
        "**In the below elements which of them are values or an expression? eg:- values can be\n",
        "integer or string and expressions will be mathematical operators.**\n",
        "\n",
        "\n",
        "&#39;hello&#39;- Value\n",
        "\n",
        "-87.8- Value\n",
        "\n",
        "--  Expression\n",
        "\n",
        "/  Expression\n",
        "\n",
        "++  Expression\n",
        "\n",
        "6 Value"
      ]
    },
    {
      "cell_type": "markdown",
      "metadata": {
        "id": "FJoeNWVln1GB"
      },
      "source": [
        "**2. What is the difference between string and variable?**\n",
        "\n",
        "A string in Python is a sequence of characters. It is a derived data type. Strings are immutable. This means that once defined, they cannot be changed. Many Python methods, such as replace() , join() , or split() modify strings\n",
        "\n",
        "A Python variable is a reserved memory location to store values. In other words, a variable in a python program gives data to the computer for processing."
      ]
    },
    {
      "cell_type": "markdown",
      "metadata": {
        "id": "1TvaX7w3nIyc"
      },
      "source": [
        "**3. Describe three different data types.**\n",
        "\n",
        "<ul type=\"disc\">\n",
        "  <li> Int: Used for whole numbers. </li>\n",
        "  <li> str: Used for string variable. </li>\n",
        "  <li> float: Used for real numbers </li>\n",
        "  <li> bool: Used for boolean datatype </li>\n",
        "</ul>"
      ]
    },
    {
      "cell_type": "code",
      "metadata": {
        "colab": {
          "base_uri": "https://localhost:8080/"
        },
        "id": "QRR2Nt7ZqXzl",
        "outputId": "b25258d9-11ac-4a5e-8b81-35867d00390e"
      },
      "source": [
        "a =10\n",
        "type(a)"
      ],
      "execution_count": 1,
      "outputs": [
        {
          "output_type": "execute_result",
          "data": {
            "text/plain": [
              "int"
            ]
          },
          "metadata": {
            "tags": []
          },
          "execution_count": 1
        }
      ]
    },
    {
      "cell_type": "code",
      "metadata": {
        "id": "aRYuC-8Eqa-y"
      },
      "source": [
        "b = 10.10010101"
      ],
      "execution_count": 2,
      "outputs": []
    },
    {
      "cell_type": "code",
      "metadata": {
        "colab": {
          "base_uri": "https://localhost:8080/"
        },
        "id": "6IQhhXnDqj_B",
        "outputId": "8c822315-2095-4c36-f9bf-a8bc95d5cb69"
      },
      "source": [
        "type(b)"
      ],
      "execution_count": 3,
      "outputs": [
        {
          "output_type": "execute_result",
          "data": {
            "text/plain": [
              "float"
            ]
          },
          "metadata": {
            "tags": []
          },
          "execution_count": 3
        }
      ]
    },
    {
      "cell_type": "code",
      "metadata": {
        "id": "GYHmtzKGqk1A"
      },
      "source": [
        "c = \"hey you\""
      ],
      "execution_count": 4,
      "outputs": []
    },
    {
      "cell_type": "code",
      "metadata": {
        "colab": {
          "base_uri": "https://localhost:8080/"
        },
        "id": "yDF9AETLqprE",
        "outputId": "50bb4fb4-408f-44cc-ca32-131ec33211a1"
      },
      "source": [
        "type(c)"
      ],
      "execution_count": 6,
      "outputs": [
        {
          "output_type": "execute_result",
          "data": {
            "text/plain": [
              "str"
            ]
          },
          "metadata": {
            "tags": []
          },
          "execution_count": 6
        }
      ]
    },
    {
      "cell_type": "code",
      "metadata": {
        "colab": {
          "base_uri": "https://localhost:8080/"
        },
        "id": "VOXnnOF9qqg6",
        "outputId": "6c45d432-0fd4-49a1-e63f-5722d4094f05"
      },
      "source": [
        "d = True\n",
        "type(d)"
      ],
      "execution_count": 7,
      "outputs": [
        {
          "output_type": "execute_result",
          "data": {
            "text/plain": [
              "bool"
            ]
          },
          "metadata": {
            "tags": []
          },
          "execution_count": 7
        }
      ]
    },
    {
      "cell_type": "markdown",
      "metadata": {
        "id": "tciJ4uzxq14c"
      },
      "source": [
        "**4. What is an expression made up of? What do all expressions do?**\n",
        "\n",
        "*Python expressions only contain identifiers, literals, and operators. So, what are these?*\n",
        "\n",
        "**Identifiers**: Any name that is used to define a class, function, variable module, or object is an identifier. \n",
        "\n",
        "**Literals**: These are language-independent terms in Python and should exist independently in any programming language. In Python, there are the string literals, byte literals, integer literals, floating point literals, and imaginary literals.\n",
        "\n",
        "**Operators**: In Python you can implement the following operations using the corresponding tokens.\n",
        " +, -, %, /, //, *. **. @, >,  =, >=, <= etc.\n"
      ]
    },
    {
      "cell_type": "code",
      "metadata": {
        "id": "EAzn99b1quzV"
      },
      "source": [
        ""
      ],
      "execution_count": null,
      "outputs": []
    },
    {
      "cell_type": "markdown",
      "metadata": {
        "id": "bOYFIxPOrJ-B"
      },
      "source": [
        "**6. After running the following code, what does the variable bacon contain?**\n",
        "\n",
        "bacon = 22\n",
        "\n",
        "bacon+1\n",
        "\n",
        "Ans- running this code will feed bacon 23."
      ]
    },
    {
      "cell_type": "code",
      "metadata": {
        "colab": {
          "base_uri": "https://localhost:8080/"
        },
        "id": "tKCxjOborR35",
        "outputId": "a4f341d7-67b9-45b0-80f7-c311f43175ca"
      },
      "source": [
        "bacon = 22\n",
        "bacon+1"
      ],
      "execution_count": 8,
      "outputs": [
        {
          "output_type": "execute_result",
          "data": {
            "text/plain": [
              "23"
            ]
          },
          "metadata": {
            "tags": []
          },
          "execution_count": 8
        }
      ]
    },
    {
      "cell_type": "markdown",
      "metadata": {
        "id": "wuSCwbIsrm4w"
      },
      "source": [
        "**7. What should the values of the following two terms be?**\n",
        "\n",
        "&#39;spam&#39; + &#39;spamspam&#39;\n",
        "\n",
        "&#39;spam&#39; * 3"
      ]
    },
    {
      "cell_type": "code",
      "metadata": {
        "colab": {
          "base_uri": "https://localhost:8080/",
          "height": 35
        },
        "id": "9UMpDG81rVfw",
        "outputId": "edd3fc1a-30d5-403b-c127-1e6a1d2b2160"
      },
      "source": [
        "\"spam\"+\"spamspam\""
      ],
      "execution_count": 9,
      "outputs": [
        {
          "output_type": "execute_result",
          "data": {
            "application/vnd.google.colaboratory.intrinsic+json": {
              "type": "string"
            },
            "text/plain": [
              "'spamspamspam'"
            ]
          },
          "metadata": {
            "tags": []
          },
          "execution_count": 9
        }
      ]
    },
    {
      "cell_type": "code",
      "metadata": {
        "colab": {
          "base_uri": "https://localhost:8080/",
          "height": 35
        },
        "id": "Qcyms97Gr22l",
        "outputId": "ca08cfbb-5208-40d5-a18a-58de77136adb"
      },
      "source": [
        "\"spam\"*3"
      ],
      "execution_count": 10,
      "outputs": [
        {
          "output_type": "execute_result",
          "data": {
            "application/vnd.google.colaboratory.intrinsic+json": {
              "type": "string"
            },
            "text/plain": [
              "'spamspamspam'"
            ]
          },
          "metadata": {
            "tags": []
          },
          "execution_count": 10
        }
      ]
    },
    {
      "cell_type": "markdown",
      "metadata": {
        "id": "f1_ahGzZr8Dj"
      },
      "source": [
        "**8. Why is eggs a valid variable name while 100 is invalid?**\n",
        "\n",
        "As the variable name always starts with a string or combination of first string then number but cannot start with a number or we can use underscore to define the variable."
      ]
    },
    {
      "cell_type": "code",
      "metadata": {
        "id": "8ertek1rr5Ae"
      },
      "source": [
        "_= 23"
      ],
      "execution_count": 11,
      "outputs": []
    },
    {
      "cell_type": "code",
      "metadata": {
        "colab": {
          "base_uri": "https://localhost:8080/"
        },
        "id": "wuR51mA3sl_P",
        "outputId": "ea4100bb-e49c-4af6-b684-cbb1c66c31de"
      },
      "source": [
        "_"
      ],
      "execution_count": 12,
      "outputs": [
        {
          "output_type": "execute_result",
          "data": {
            "text/plain": [
              "23"
            ]
          },
          "metadata": {
            "tags": []
          },
          "execution_count": 12
        }
      ]
    },
    {
      "cell_type": "code",
      "metadata": {
        "id": "NdKfzETVsmuw"
      },
      "source": [
        ""
      ],
      "execution_count": null,
      "outputs": []
    },
    {
      "cell_type": "markdown",
      "metadata": {
        "id": "hF3p71iZsu4L"
      },
      "source": [
        "**9. What three functions can be used to get the integer, floating-point number, or string\n",
        "version of a value?**\n",
        "\n",
        "<ul type = \"disc\">\n",
        "  <li> int() </li>\n",
        "  <li> str() </li>\n",
        "  <li> float() </li>\n",
        "</ul>"
      ]
    },
    {
      "cell_type": "markdown",
      "metadata": {
        "id": "yEnQvDAXt-W8"
      },
      "source": [
        "**10. Why does this expression cause an error? How can you fix it?**\n",
        "\n",
        "&#39;I have eaten &#39; + 99 + &#39; burritos.&#39;\n",
        "\n",
        "As 99 is int type. so enclosed it inside the double quotes.\n",
        "\n",
        "Or we can also use str()."
      ]
    },
    {
      "cell_type": "code",
      "metadata": {
        "colab": {
          "base_uri": "https://localhost:8080/",
          "height": 35
        },
        "id": "smjg5LBJsxOJ",
        "outputId": "79defaa1-be99-496f-eea7-ecf421d4019f"
      },
      "source": [
        "\"I have eaten\"+\" 99 \"+\"burritos\""
      ],
      "execution_count": 20,
      "outputs": [
        {
          "output_type": "execute_result",
          "data": {
            "application/vnd.google.colaboratory.intrinsic+json": {
              "type": "string"
            },
            "text/plain": [
              "'I have eaten 99 burritos'"
            ]
          },
          "metadata": {
            "tags": []
          },
          "execution_count": 20
        }
      ]
    },
    {
      "cell_type": "code",
      "metadata": {
        "colab": {
          "base_uri": "https://localhost:8080/",
          "height": 35
        },
        "id": "8wVTtEdvtdVk",
        "outputId": "4d1aa007-c933-41fa-a42e-90ee7ad65ca3"
      },
      "source": [
        "\"I have eaten \"+ str(99) +\" burritos\""
      ],
      "execution_count": 23,
      "outputs": [
        {
          "output_type": "execute_result",
          "data": {
            "application/vnd.google.colaboratory.intrinsic+json": {
              "type": "string"
            },
            "text/plain": [
              "'I have eaten 99 burritos'"
            ]
          },
          "metadata": {
            "tags": []
          },
          "execution_count": 23
        }
      ]
    },
    {
      "cell_type": "code",
      "metadata": {
        "id": "W6NCJl8bui7C"
      },
      "source": [
        ""
      ],
      "execution_count": 21,
      "outputs": []
    }
  ]
}