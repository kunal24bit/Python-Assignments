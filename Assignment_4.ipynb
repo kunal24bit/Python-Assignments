{
  "nbformat": 4,
  "nbformat_minor": 0,
  "metadata": {
    "colab": {
      "name": "Assignment 4.ipynb",
      "provenance": [],
      "authorship_tag": "ABX9TyMBqjSaAirtIxz6Mjqm3mm4",
      "include_colab_link": true
    },
    "kernelspec": {
      "name": "python3",
      "display_name": "Python 3"
    },
    "language_info": {
      "name": "python"
    }
  },
  "cells": [
    {
      "cell_type": "markdown",
      "metadata": {
        "id": "view-in-github",
        "colab_type": "text"
      },
      "source": [
        "<a href=\"https://colab.research.google.com/github/kunal24bit/Python-Assignments/blob/main/Assignment_4.ipynb\" target=\"_parent\"><img src=\"https://colab.research.google.com/assets/colab-badge.svg\" alt=\"Open In Colab\"/></a>"
      ]
    },
    {
      "cell_type": "markdown",
      "metadata": {
        "id": "ejl0IQZ071OL"
      },
      "source": [
        "Write a Python Program to Find the Factorial of a Number?"
      ]
    },
    {
      "cell_type": "code",
      "metadata": {
        "colab": {
          "base_uri": "https://localhost:8080/"
        },
        "id": "UjIA-8JH718-",
        "outputId": "4de8f106-c084-4428-89af-b5538ccb358d"
      },
      "source": [
        "def fact(n):\n",
        "  if n==0 or n==1:\n",
        "    return 1\n",
        "  else:\n",
        "    return n*fact(n-1)\n",
        "\n",
        "print(fact(3))\n",
        "print(fact(5))\n",
        "print(fact(6))\n",
        "\n",
        "  \n",
        "  "
      ],
      "execution_count": null,
      "outputs": [
        {
          "output_type": "stream",
          "text": [
            "6\n",
            "120\n",
            "720\n"
          ],
          "name": "stdout"
        }
      ]
    },
    {
      "cell_type": "markdown",
      "metadata": {
        "id": "jtr_Q5tc_0WX"
      },
      "source": [
        "Write a Python Program to Display the multiplication Table?"
      ]
    },
    {
      "cell_type": "code",
      "metadata": {
        "id": "ADoCppPd72xM"
      },
      "source": [
        "def mul(n):\n",
        "  if n>1:\n",
        "    for i in range(1, 11):\n",
        "      print(n*i)\n",
        "      "
      ],
      "execution_count": null,
      "outputs": []
    },
    {
      "cell_type": "code",
      "metadata": {
        "colab": {
          "base_uri": "https://localhost:8080/"
        },
        "id": "jRkbgl57721L",
        "outputId": "9d3e0775-cfce-4453-f1b4-dfb1d09ee40f"
      },
      "source": [
        "mul(3)\n",
        "mul(4)"
      ],
      "execution_count": null,
      "outputs": [
        {
          "output_type": "stream",
          "text": [
            "3\n",
            "6\n",
            "9\n",
            "12\n",
            "15\n",
            "18\n",
            "21\n",
            "24\n",
            "27\n",
            "30\n",
            "4\n",
            "8\n",
            "12\n",
            "16\n",
            "20\n",
            "24\n",
            "28\n",
            "32\n",
            "36\n",
            "40\n"
          ],
          "name": "stdout"
        }
      ]
    },
    {
      "cell_type": "markdown",
      "metadata": {
        "id": "Zmlt4Km3Aatl"
      },
      "source": [
        "Write a Python Program to Print the Fibonacci sequence?"
      ]
    },
    {
      "cell_type": "code",
      "metadata": {
        "id": "WLQLW7oZARLd"
      },
      "source": [
        "def fibs(n):\n",
        "  n1, n2 = 0, 1\n",
        "  count = 0\n",
        "  if n==0:\n",
        "    print(n1)\n",
        "  elif n==1:\n",
        "    print(n2)\n",
        "  else:\n",
        "    while(count<n):\n",
        "      print(n1)\n",
        "      nth = n1+n2\n",
        "      n1 = n2\n",
        "      n2 = nth\n",
        "      count = count+1\n",
        "\n"
      ],
      "execution_count": null,
      "outputs": []
    },
    {
      "cell_type": "code",
      "metadata": {
        "colab": {
          "base_uri": "https://localhost:8080/"
        },
        "id": "rDjV8qZoAuuI",
        "outputId": "95b65156-b4a0-44e7-a83d-8e8167730a34"
      },
      "source": [
        "fibs(6)"
      ],
      "execution_count": null,
      "outputs": [
        {
          "output_type": "stream",
          "text": [
            "0\n",
            "1\n",
            "1\n",
            "2\n",
            "3\n",
            "5\n"
          ],
          "name": "stdout"
        }
      ]
    },
    {
      "cell_type": "markdown",
      "metadata": {
        "id": "DlELkWz3Mrwk"
      },
      "source": [
        "Write a Python Program to Check Armstrong Number?"
      ]
    },
    {
      "cell_type": "code",
      "metadata": {
        "id": "oOwSjov-B7gF"
      },
      "source": [
        "def arms(a):\n",
        "  temp = a\n",
        "  temp_1 = 0\n",
        "  while a>0:\n",
        "    dig = a%10\n",
        "    temp_1 = temp_1 +dig*dig*dig\n",
        "    a = a//10\n",
        "  if temp_1 == temp:\n",
        "    print(\"The given number is armstrong\")\n",
        "  else:\n",
        "    print(\"Not a armstrong number\")\n",
        "\n",
        "\n",
        "  \n"
      ],
      "execution_count": 13,
      "outputs": []
    },
    {
      "cell_type": "code",
      "metadata": {
        "id": "XyNsAFniPSM2",
        "colab": {
          "base_uri": "https://localhost:8080/"
        },
        "outputId": "c5b8a818-0628-4333-e897-e266b930ed38"
      },
      "source": [
        "arms(153)"
      ],
      "execution_count": 7,
      "outputs": [
        {
          "output_type": "stream",
          "text": [
            "The given number is armstrong\n"
          ],
          "name": "stdout"
        }
      ]
    },
    {
      "cell_type": "code",
      "metadata": {
        "id": "y6j2XRt3PWCp",
        "colab": {
          "base_uri": "https://localhost:8080/"
        },
        "outputId": "7314b030-6abd-412a-d153-5e841c13a23c"
      },
      "source": [
        "arms(370)\n"
      ],
      "execution_count": 9,
      "outputs": [
        {
          "output_type": "stream",
          "text": [
            "The given number is armstrong\n"
          ],
          "name": "stdout"
        }
      ]
    },
    {
      "cell_type": "code",
      "metadata": {
        "id": "1BQarpDhRnmc",
        "colab": {
          "base_uri": "https://localhost:8080/"
        },
        "outputId": "a1fc20d9-c2b4-45e4-d8f4-11cbc7f3f685"
      },
      "source": [
        "arms(371)"
      ],
      "execution_count": 10,
      "outputs": [
        {
          "output_type": "stream",
          "text": [
            "The given number is armstrong\n"
          ],
          "name": "stdout"
        }
      ]
    },
    {
      "cell_type": "code",
      "metadata": {
        "colab": {
          "base_uri": "https://localhost:8080/"
        },
        "id": "MVJR8oknRt7H",
        "outputId": "4fbbe12a-c134-4ae2-f4da-d3e553a324c9"
      },
      "source": [
        "arms(407)"
      ],
      "execution_count": 12,
      "outputs": [
        {
          "output_type": "stream",
          "text": [
            "The given number is armstrong\n"
          ],
          "name": "stdout"
        }
      ]
    },
    {
      "cell_type": "code",
      "metadata": {
        "id": "1KdNBofqxXIx"
      },
      "source": [
        ""
      ],
      "execution_count": null,
      "outputs": []
    },
    {
      "cell_type": "markdown",
      "metadata": {
        "id": "LIm6nZPKxfU5"
      },
      "source": [
        "Write a Python Program to Find Armstrong Number in an Interval?"
      ]
    },
    {
      "cell_type": "code",
      "metadata": {
        "id": "sXRuRAH8xggV"
      },
      "source": [
        "def armstrong(a, b):\n",
        "  lst = []\n",
        "  for i in range(a,b):\n",
        "    temp = i\n",
        "    temp_1 = 0\n",
        "    while(i>0):\n",
        "      dig = i%10\n",
        "      temp_1 = temp_1 + dig*dig*dig\n",
        "      i = i//10\n",
        "    if temp_1 == temp:\n",
        "      lst.append(temp)\n",
        "  return lst\n"
      ],
      "execution_count": 18,
      "outputs": []
    },
    {
      "cell_type": "code",
      "metadata": {
        "colab": {
          "base_uri": "https://localhost:8080/"
        },
        "id": "7r5ztVMFzG07",
        "outputId": "22c7b394-7764-42e9-a37d-9e364b9bcf8f"
      },
      "source": [
        "armstrong(151, 500)"
      ],
      "execution_count": 19,
      "outputs": [
        {
          "output_type": "execute_result",
          "data": {
            "text/plain": [
              "[153, 370, 371, 407]"
            ]
          },
          "metadata": {
            "tags": []
          },
          "execution_count": 19
        }
      ]
    },
    {
      "cell_type": "markdown",
      "metadata": {
        "id": "oQFL0Ap5z8O8"
      },
      "source": [
        "Write a Python Program to Find the Sum of Natural Numbers?"
      ]
    },
    {
      "cell_type": "code",
      "metadata": {
        "id": "Djr8LEZ7zMc_"
      },
      "source": [
        "def sum(n):\n",
        "  lst = []\n",
        "  c = 0\n",
        "  for i in range(1,n+1):\n",
        "    lst.append(i)\n",
        "  print(lst)\n",
        "  for i in range(0, len(lst)):\n",
        "    c = c + lst[i]\n",
        "  return c"
      ],
      "execution_count": 39,
      "outputs": []
    },
    {
      "cell_type": "code",
      "metadata": {
        "colab": {
          "base_uri": "https://localhost:8080/"
        },
        "id": "vonRbRjg0MG_",
        "outputId": "5216cc5f-74d1-4f65-c90a-4418240db1b1"
      },
      "source": [
        "sum(3)"
      ],
      "execution_count": 40,
      "outputs": [
        {
          "output_type": "stream",
          "text": [
            "[1, 2, 3]\n"
          ],
          "name": "stdout"
        },
        {
          "output_type": "execute_result",
          "data": {
            "text/plain": [
              "6"
            ]
          },
          "metadata": {
            "tags": []
          },
          "execution_count": 40
        }
      ]
    },
    {
      "cell_type": "code",
      "metadata": {
        "colab": {
          "base_uri": "https://localhost:8080/"
        },
        "id": "xrQM8lN40oD6",
        "outputId": "5abdb651-ee24-4764-a013-2affe7fe7b9a"
      },
      "source": [
        "sum(6)"
      ],
      "execution_count": 42,
      "outputs": [
        {
          "output_type": "stream",
          "text": [
            "[1, 2, 3, 4, 5, 6]\n"
          ],
          "name": "stdout"
        },
        {
          "output_type": "execute_result",
          "data": {
            "text/plain": [
              "21"
            ]
          },
          "metadata": {
            "tags": []
          },
          "execution_count": 42
        }
      ]
    },
    {
      "cell_type": "code",
      "metadata": {
        "id": "VuXj22Xc1UgR"
      },
      "source": [
        ""
      ],
      "execution_count": null,
      "outputs": []
    }
  ]
}