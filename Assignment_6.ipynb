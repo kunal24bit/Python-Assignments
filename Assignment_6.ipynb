{
  "nbformat": 4,
  "nbformat_minor": 0,
  "metadata": {
    "colab": {
      "name": "Assignment_6.ipynb",
      "provenance": [],
      "authorship_tag": "ABX9TyM7NkslE9njVM4ok/+qRAnX",
      "include_colab_link": true
    },
    "kernelspec": {
      "name": "python3",
      "display_name": "Python 3"
    },
    "language_info": {
      "name": "python"
    }
  },
  "cells": [
    {
      "cell_type": "markdown",
      "metadata": {
        "id": "view-in-github",
        "colab_type": "text"
      },
      "source": [
        "<a href=\"https://colab.research.google.com/github/kunal24bit/Python-Assignments/blob/main/Assignment_6.ipynb\" target=\"_parent\"><img src=\"https://colab.research.google.com/assets/colab-badge.svg\" alt=\"Open In Colab\"/></a>"
      ]
    },
    {
      "cell_type": "markdown",
      "metadata": {
        "id": "aZtSJMVc-2fS"
      },
      "source": [
        "**Write a Python Program to Find Factorial of Number Using Recursion?**"
      ]
    },
    {
      "cell_type": "markdown",
      "metadata": {
        "id": "uLUGDgZh_ZSY"
      },
      "source": [
        ""
      ]
    },
    {
      "cell_type": "code",
      "metadata": {
        "id": "d4W21yZY_Zv5"
      },
      "source": [
        "def fib(n):\n",
        "  if n<=1:\n",
        "    return n\n",
        "  else:\n",
        "    return (fib(n-1)+fib(n-2))\n",
        "\n",
        "def nterms(a):\n",
        "  if a <= 0:\n",
        "    print(\"Pleae enter a positive number\")\n",
        "  else:\n",
        "    print(\"Fibonacci Sequence\")\n",
        "    for i in range(a):\n",
        "      print(fib(i))"
      ],
      "execution_count": 34,
      "outputs": []
    },
    {
      "cell_type": "code",
      "metadata": {
        "id": "UEwOqwdoAOwy",
        "outputId": "4aff7167-e3b6-4d4e-86f5-799d34a9cc31",
        "colab": {
          "base_uri": "https://localhost:8080/"
        }
      },
      "source": [
        "nterms(10)"
      ],
      "execution_count": 36,
      "outputs": [
        {
          "output_type": "stream",
          "text": [
            "Fibonacci Sequence\n",
            "0\n",
            "1\n",
            "1\n",
            "2\n",
            "3\n",
            "5\n",
            "8\n",
            "13\n",
            "21\n",
            "34\n"
          ],
          "name": "stdout"
        }
      ]
    },
    {
      "cell_type": "markdown",
      "metadata": {
        "id": "XwSMYCibFhiy"
      },
      "source": [
        "**Write a Python Program to Find Factorial of Number Using Recursion?**"
      ]
    },
    {
      "cell_type": "code",
      "metadata": {
        "id": "RT07gePF1CKe"
      },
      "source": [
        "def fact(n):\n",
        "  if n == 0:\n",
        "    return 1\n",
        "  else:\n",
        "    return n*fact(n-1)"
      ],
      "execution_count": 37,
      "outputs": []
    },
    {
      "cell_type": "code",
      "metadata": {
        "colab": {
          "base_uri": "https://localhost:8080/"
        },
        "id": "qM3nLg_J1HSs",
        "outputId": "f1d4b64e-a984-4f73-88af-9d2d7ace116a"
      },
      "source": [
        "fact(5)"
      ],
      "execution_count": 38,
      "outputs": [
        {
          "output_type": "execute_result",
          "data": {
            "text/plain": [
              "120"
            ]
          },
          "metadata": {
            "tags": []
          },
          "execution_count": 38
        }
      ]
    },
    {
      "cell_type": "markdown",
      "metadata": {
        "id": "6aIPuVe1-tZV"
      },
      "source": [
        "**Write a Python Program to calculate your Body Mass Index?**"
      ]
    },
    {
      "cell_type": "code",
      "metadata": {
        "id": "ga3cSsLL1Il_"
      },
      "source": [
        "def bmi(weight, height):\n",
        "  BMI = (1.3*weight)/(height**(2.5))\n",
        "  return print(\"The BMI is {}\".format(BMI))"
      ],
      "execution_count": 6,
      "outputs": []
    },
    {
      "cell_type": "code",
      "metadata": {
        "colab": {
          "base_uri": "https://localhost:8080/"
        },
        "id": "Vbcotw6n2C_g",
        "outputId": "ec4cf823-ed46-46f1-d7af-70bd86d1c537"
      },
      "source": [
        "bmi(55,1.5)"
      ],
      "execution_count": 7,
      "outputs": [
        {
          "output_type": "stream",
          "text": [
            "The BMI is 25.946446905036627\n"
          ],
          "name": "stdout"
        }
      ]
    },
    {
      "cell_type": "markdown",
      "metadata": {
        "id": "0dDfu4Oj-nLm"
      },
      "source": [
        "**Write a Python Program to calculate the natural logarithm of any number?**"
      ]
    },
    {
      "cell_type": "code",
      "metadata": {
        "id": "iMh1RjOJ2IVO"
      },
      "source": [
        "import math\n",
        "def ln(a):\n",
        "  print(\"The natural logarithm of {} is:\".format(a), end = \"\")\n",
        "  return math.log(a)\n",
        "\n"
      ],
      "execution_count": 19,
      "outputs": []
    },
    {
      "cell_type": "code",
      "metadata": {
        "colab": {
          "base_uri": "https://localhost:8080/"
        },
        "id": "uriHd_TD6QP_",
        "outputId": "8bd1174c-8ea0-4975-ccff-8928a5d7890d"
      },
      "source": [
        "ln(14)"
      ],
      "execution_count": 20,
      "outputs": [
        {
          "output_type": "stream",
          "text": [
            "The natural logarithm of 14 is:"
          ],
          "name": "stdout"
        },
        {
          "output_type": "execute_result",
          "data": {
            "text/plain": [
              "2.6390573296152584"
            ]
          },
          "metadata": {
            "tags": []
          },
          "execution_count": 20
        }
      ]
    },
    {
      "cell_type": "code",
      "metadata": {
        "id": "KzWjqAPq6QVH"
      },
      "source": [
        ""
      ],
      "execution_count": null,
      "outputs": []
    },
    {
      "cell_type": "markdown",
      "metadata": {
        "id": "WprPPW1d9QbT"
      },
      "source": [
        "**Write a Python Program for cube sum of first n natural numbers?**"
      ]
    },
    {
      "cell_type": "code",
      "metadata": {
        "id": "UalIcB3r6QZS"
      },
      "source": [
        "def cube(n):\n",
        "  lst = []\n",
        "  temp = 0\n",
        "  for i in range(1,n+1):\n",
        "    lst.append(i)\n",
        "  print(lst)\n",
        "  for j in lst:\n",
        "    temp = temp + lst[j-1]**3\n",
        "  print(\"The cube of first {} natural number is:\".format(n), end = \"\")\n",
        "  return temp "
      ],
      "execution_count": 30,
      "outputs": []
    },
    {
      "cell_type": "code",
      "metadata": {
        "id": "a2SGehft90vq",
        "outputId": "11e95273-1677-45db-ef72-0ed04202416d",
        "colab": {
          "base_uri": "https://localhost:8080/"
        }
      },
      "source": [
        "cube(3)"
      ],
      "execution_count": 31,
      "outputs": [
        {
          "output_type": "stream",
          "text": [
            "[1, 2, 3]\n",
            "The cube of first 3 natural number is:"
          ],
          "name": "stdout"
        },
        {
          "output_type": "execute_result",
          "data": {
            "text/plain": [
              "36"
            ]
          },
          "metadata": {
            "tags": []
          },
          "execution_count": 31
        }
      ]
    },
    {
      "cell_type": "code",
      "metadata": {
        "id": "Y4SAoGgF95Yh"
      },
      "source": [
        ""
      ],
      "execution_count": null,
      "outputs": []
    }
  ]
}