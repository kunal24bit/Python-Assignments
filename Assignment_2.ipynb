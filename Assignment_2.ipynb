{
  "nbformat": 4,
  "nbformat_minor": 0,
  "metadata": {
    "colab": {
      "name": "Assignment_2.ipynb",
      "provenance": [],
      "authorship_tag": "ABX9TyNU2wgsl+wNsf7ASXekq/mf",
      "include_colab_link": true
    },
    "kernelspec": {
      "name": "python3",
      "display_name": "Python 3"
    },
    "language_info": {
      "name": "python"
    }
  },
  "cells": [
    {
      "cell_type": "markdown",
      "metadata": {
        "id": "view-in-github",
        "colab_type": "text"
      },
      "source": [
        "<a href=\"https://colab.research.google.com/github/kunal24bit/Python-Assignments/blob/main/Assignment_2.ipynb\" target=\"_parent\"><img src=\"https://colab.research.google.com/assets/colab-badge.svg\" alt=\"Open In Colab\"/></a>"
      ]
    },
    {
      "cell_type": "markdown",
      "metadata": {
        "id": "BUI7QRuMDTK2"
      },
      "source": [
        "Write a Python program to convert kilometers to miles?"
      ]
    },
    {
      "cell_type": "code",
      "metadata": {
        "id": "dmNByPjgDT02"
      },
      "source": [
        "def kilometer_to_miles(a):\n",
        "  return a/1.609;"
      ],
      "execution_count": 1,
      "outputs": []
    },
    {
      "cell_type": "code",
      "metadata": {
        "colab": {
          "base_uri": "https://localhost:8080/"
        },
        "id": "pi88KVkmDryW",
        "outputId": "f04897fd-3a63-490d-eae9-07532b8ce632"
      },
      "source": [
        "kilometer_to_miles(1)"
      ],
      "execution_count": 3,
      "outputs": [
        {
          "output_type": "execute_result",
          "data": {
            "text/plain": [
              "0.6215040397762586"
            ]
          },
          "metadata": {
            "tags": []
          },
          "execution_count": 3
        }
      ]
    },
    {
      "cell_type": "markdown",
      "metadata": {
        "id": "JYc2B6QmD129"
      },
      "source": [
        "Write a Python program to convert Celsius to Fahrenheit?"
      ]
    },
    {
      "cell_type": "code",
      "metadata": {
        "id": "p7CtFTW5DvO8"
      },
      "source": [
        "def cel_to_fah(a):\n",
        "  return (a*(9/5))+32;\n",
        "  "
      ],
      "execution_count": 4,
      "outputs": []
    },
    {
      "cell_type": "code",
      "metadata": {
        "colab": {
          "base_uri": "https://localhost:8080/"
        },
        "id": "MD9wl1jbENTW",
        "outputId": "25f56659-f011-4f86-ac00-de5ee1da5d18"
      },
      "source": [
        "cel_to_fah(32)"
      ],
      "execution_count": 5,
      "outputs": [
        {
          "output_type": "execute_result",
          "data": {
            "text/plain": [
              "89.6"
            ]
          },
          "metadata": {
            "tags": []
          },
          "execution_count": 5
        }
      ]
    },
    {
      "cell_type": "markdown",
      "metadata": {
        "id": "kLsHZYDuEz_q"
      },
      "source": [
        "Write a Python program to display calendar?"
      ]
    },
    {
      "cell_type": "code",
      "metadata": {
        "id": "hGPknLagERe0"
      },
      "source": [
        "import calendar\n",
        "\n",
        "def display_calendar(year, month):\n",
        "  return calendar.month(year, month)"
      ],
      "execution_count": 6,
      "outputs": []
    },
    {
      "cell_type": "code",
      "metadata": {
        "colab": {
          "base_uri": "https://localhost:8080/"
        },
        "id": "lAvkafPPFVvj",
        "outputId": "ddeb3c13-6188-4b59-b52c-d316ea2b1f41"
      },
      "source": [
        "print(display_calendar(2021,6))"
      ],
      "execution_count": 8,
      "outputs": [
        {
          "output_type": "stream",
          "text": [
            "     June 2021\n",
            "Mo Tu We Th Fr Sa Su\n",
            "    1  2  3  4  5  6\n",
            " 7  8  9 10 11 12 13\n",
            "14 15 16 17 18 19 20\n",
            "21 22 23 24 25 26 27\n",
            "28 29 30\n",
            "\n"
          ],
          "name": "stdout"
        }
      ]
    },
    {
      "cell_type": "markdown",
      "metadata": {
        "id": "W2Sg7LHsFlzo"
      },
      "source": [
        "Write a Python program to solve quadratic equation?"
      ]
    },
    {
      "cell_type": "code",
      "metadata": {
        "id": "gw2HqI2tFbFt"
      },
      "source": [
        "#where a, b are the coefficients of x^2, x, and c is the constant term.\n",
        "import cmath\n",
        "def solve(a,b,c):\n",
        "   return [(-b+cmath.sqrt(b**2-4*a*c))/(2*a), (-b-cmath.sqrt(b**2-4*a*c))/(2*a)]\n",
        "\n"
      ],
      "execution_count": 14,
      "outputs": []
    },
    {
      "cell_type": "code",
      "metadata": {
        "colab": {
          "base_uri": "https://localhost:8080/"
        },
        "id": "vuwSIp2IGiUn",
        "outputId": "9a938ccd-3e64-42a6-bfb2-d8b932969bc7"
      },
      "source": [
        "solve(1,1,1)"
      ],
      "execution_count": 15,
      "outputs": [
        {
          "output_type": "execute_result",
          "data": {
            "text/plain": [
              "[(-0.5+0.8660254037844386j), (-0.5-0.8660254037844386j)]"
            ]
          },
          "metadata": {
            "tags": []
          },
          "execution_count": 15
        }
      ]
    },
    {
      "cell_type": "markdown",
      "metadata": {
        "id": "XArCSyo_Hgy0"
      },
      "source": [
        "Write a Python program to swap two variables without temp variable?"
      ]
    },
    {
      "cell_type": "code",
      "metadata": {
        "id": "DPb3hyFIGoEl"
      },
      "source": [
        "def swap(a, b):\n",
        "  print(\"Before swapping a = {} and b = {}\".format(a,b))\n",
        "  a = a+b\n",
        "  b = a-b\n",
        "  a = a-b\n",
        "  return (print(\"After swapping a = {} and b = {}\".format(a,b)))"
      ],
      "execution_count": 21,
      "outputs": []
    },
    {
      "cell_type": "code",
      "metadata": {
        "colab": {
          "base_uri": "https://localhost:8080/"
        },
        "id": "83CJD17HIv5S",
        "outputId": "ced58ace-9315-482c-ad92-85c85058f8b3"
      },
      "source": [
        "(swap(1,2))\n",
        "print(\"\\n\")\n",
        "(swap(5,10))\n",
        "print(\"\\n\")\n",
        "(swap(3,4))\n",
        "print(\"\\n\")\n",
        "(swap(0,1))"
      ],
      "execution_count": 26,
      "outputs": [
        {
          "output_type": "stream",
          "text": [
            "Before swapping a = 1 and b = 2\n",
            "After swapping a = 2 and b = 1\n",
            "\n",
            "\n",
            "Before swapping a = 5 and b = 10\n",
            "After swapping a = 10 and b = 5\n",
            "\n",
            "\n",
            "Before swapping a = 3 and b = 4\n",
            "After swapping a = 4 and b = 3\n",
            "\n",
            "\n",
            "Before swapping a = 0 and b = 1\n",
            "After swapping a = 1 and b = 0\n"
          ],
          "name": "stdout"
        }
      ]
    },
    {
      "cell_type": "code",
      "metadata": {
        "id": "a6SG2EtuIxS8"
      },
      "source": [
        ""
      ],
      "execution_count": null,
      "outputs": []
    }
  ]
}